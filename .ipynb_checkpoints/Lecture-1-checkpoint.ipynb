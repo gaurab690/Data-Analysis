{
 "cells": [
  {
   "cell_type": "markdown",
   "id": "61502ec5",
   "metadata": {},
   "source": [
    "# Overview\n",
    "1. Data opportunities are everywhere.\n",
    "2. Data science:\n",
    "    - is principles, processes and Techniques for extracting knowledge from data\n",
    "    - involves intuition, creativity, common sense and domain knowledge (interdisciplinary)\n",
    "3. Data Science offers:\n",
    "    - Competitive Advantages\n",
    "    - Productivity Increase\n",
    "    - Enhance Customer Engagement/Satisfaction\n",
    "    \n",
    "Examples:\n",
    "- Walmart found that pre-hurricane beer increases in sales. Post-hurricane strawberry pop tarts increase in sales.\n",
    "- Customer Churn (leaving one company for the other): There is an offer to retain customers. Who to offer this to? => running example in the book.\n",
    "\n",
    "A word of caution on the ethics of what you do."
   ]
  },
  {
   "cell_type": "markdown",
   "id": "08b2b027",
   "metadata": {},
   "source": [
    "# Data Driven Decision Making\n",
    "- Ultimate goal is to improve decision making\n",
    "    - With \"discoveries\" (AB Testing)\n",
    "    - With repeated patterns (predicting pregnancies => change in shopping patterns)\n",
    "- Make decisions based on data"
   ]
  },
  {
   "cell_type": "markdown",
   "id": "c1d035e4",
   "metadata": {},
   "source": [
    "# Common Data Science Tasks\n",
    "1. Classification\n",
    "    - What classes does an individual in a population belong to?\n",
    "    - Likely to switch the company vs. unlikely to switch the company\n",
    "2. Regression\n",
    "    - Estimate numeric value of some variable for an individual\n",
    "    - How much will this individual spend at my store?\n",
    "3. Clustering\n",
    "    - Identify natural groupings in the data\n",
    "    - Who will become friends with who?\n",
    "4. Co-occurence Group\n",
    "    - What items are currently purchased together?\n",
    "    - People who buy a desk also buy a chair?\n",
    "<!-- Some Additional Tasks\n",
    "5. Similarity Matching\n",
    "    - Identify similar individuals\n",
    "    - Other shows like this...\n",
    "6. Profiling\n",
    "    - Predict typical behavior\n",
    "    - A person who lives in lekhnath and works in Pokhara. Does this person want a bike?\n",
    "7. Link Prediction\n",
    "    - People you may know...\n",
    "8. Data Reduction\n",
    "    - Do we need all the movies a customer watched? Or just the genre?\n",
    "9. Causal Modeling\n",
    "    - Did our ad actually help drive the sales up?\n",
    "!>"
   ]
  },
  {
   "cell_type": "markdown",
   "id": "bb5e5c2d",
   "metadata": {},
   "source": [
    "# Methodology: Supervised vs. Unsupervised Learning\n",
    "1. Supervised\n",
    "    - Provide Target Information along with a set of examples\n",
    "    - Examples provide a sense of what the correct output is, analysis minimizes error\n",
    "    - Classification and Regression\n",
    "2. Unsupervised\n",
    "    - Provide Target Information but no examples, form your own conclusions\n",
    "    - Clustering and Co-occurence Group\n",
    "<!-- Show an example with call duration vs. internet usage -->"
   ]
  },
  {
   "cell_type": "markdown",
   "id": "2d3a4699",
   "metadata": {},
   "source": [
    "# Data Analytics Life Cycle\n",
    "/-----------------\\            /---------------\\\n",
    "| Business        |----------->| Data          |------------------.\n",
    "| Understanding   |<-----------| Understanding |                  |\n",
    "\\-----------------/            \\---------------/                  |\n",
    "        ^                                                         |\n",
    "        |                                                         |\n",
    "        |                      DATA                               |\n",
    "        |                                                         |\n",
    "        |                                                         |\n",
    "/------------\\            /-----------\\             /-------------------\\\n",
    "| Evaluation |<-----------| Modelling |<------------| Data Preparation  |\n",
    "\\------------/            |           |------------>|                   |\n",
    "        |                 \\-----------/             \\-------------------/\n",
    "        |                  \n",
    "        |\n",
    "        |          /------------\\\n",
    "         --------->| Deployment |\n",
    "                   \\------------/"
   ]
  },
  {
   "cell_type": "markdown",
   "id": "fe076624",
   "metadata": {},
   "source": [
    "## Business Understanding\n",
    "- Business goals aren't always clear => they have nuances and complexities\n",
    "- Consider collecting donations for a campaign. Who to target?\n",
    "    - Heavy Donors vs. Light Donors\n",
    "    - Short Term Donors vs. Long Term Donors\n",
    "    - Our cost for targeting donors\n",
    "\n",
    "At this stage,\n",
    "- Understand the current situation and past related data science projects.\n",
    "- Frame/state the business problem as analytics challenge.\n",
    "- Map defined business problem to one or more common data science tasks.\n",
    "- Assess available resources (technology, systems, tools, people and data)"
   ]
  },
  {
   "cell_type": "markdown",
   "id": "e6b3ce1a",
   "metadata": {},
   "source": [
    "## Data Understanding\n",
    "- Data isn't always exactly what you want\n",
    "- Example: Credit Card Fraud vs. Insurance Fraud\n",
    "\n",
    "At this stage,\n",
    "- Identify potential data sources (databases, logs, text files)\n",
    "- Capture aggregate data sources (preview in one place)\n",
    "- Review raw data (understand content, quality, dependencies, limitations)\n",
    "- Evaluate the data structure and the tools needed"
   ]
  },
  {
   "cell_type": "markdown",
   "id": "c432b43c",
   "metadata": {},
   "source": [
    "## Data Preparation\n",
    "Activities at this stage are,\n",
    "- Preparing an analytic sandbox (warehouse/big data platform)\n",
    "- Performing Extract+Transform+Load (ETL/ELT)\n",
    "- Learning about the Data\n",
    "    - what is accessible\n",
    "    - where are the gaps\n",
    "    - any external data sources to obtain/purchase?\n",
    "- Conditioning the Data\n",
    "    - cleaning, normalizing, transforming\n",
    "- Survey and Visualize\n",
    "    - overview of characteristics of data using visualization tools"
   ]
  },
  {
   "cell_type": "markdown",
   "id": "c0ba500a",
   "metadata": {},
   "source": [
    "## Modeling\n",
    "1. Model Planning\n",
    "    - Data Exploration and Variable Selection\n",
    "    - Model Selection: Linear Regression, Logistic Regression, K-means, Bayes...,\n",
    "2. Model Building\n",
    "    - Training Dataset and Test Dataset"
   ]
  },
  {
   "cell_type": "markdown",
   "id": "870af322",
   "metadata": {},
   "source": [
    "## Evaluation\n",
    "- Verify your model on the test dataset\n",
    "\n",
    "Possibly, at this point deploy to get the desired business value"
   ]
  }
 ],
 "metadata": {
  "kernelspec": {
   "display_name": "Python 3 (ipykernel)",
   "language": "python",
   "name": "python3"
  },
  "language_info": {
   "codemirror_mode": {
    "name": "ipython",
    "version": 3
   },
   "file_extension": ".py",
   "mimetype": "text/x-python",
   "name": "python",
   "nbconvert_exporter": "python",
   "pygments_lexer": "ipython3",
   "version": "3.8.16"
  }
 },
 "nbformat": 4,
 "nbformat_minor": 5
}
