{
 "cells": [
  {
   "cell_type": "markdown",
   "id": "1606c6dd",
   "metadata": {},
   "source": [
    "# OUTLINE\n",
    "- NumPy\n",
    "- Files\n",
    "- Pandas"
   ]
  },
  {
   "cell_type": "markdown",
   "id": "22fb8c49",
   "metadata": {},
   "source": [
    "# NumPy\n",
    "- Provides `ndarray`\n",
    "    - fast and space-efficient multidimensional array with\n",
    "    - vectorized arithmetic operations or matrix operations\n",
    "- Provides linear algebra, random number number generation\n",
    "- Provides standard mathematical operations on on entire array of data\n",
    "    - as opposed to writing loops"
   ]
  },
  {
   "cell_type": "code",
   "execution_count": 1,
   "id": "7817fcb8",
   "metadata": {},
   "outputs": [],
   "source": [
    "import numpy as np"
   ]
  },
  {
   "cell_type": "code",
   "execution_count": 2,
   "id": "b94023b4",
   "metadata": {},
   "outputs": [],
   "source": [
    "arr = np.array([1, 2, 3])"
   ]
  },
  {
   "cell_type": "code",
   "execution_count": 3,
   "id": "9654a41e",
   "metadata": {},
   "outputs": [
    {
     "data": {
      "text/plain": [
       "numpy.ndarray"
      ]
     },
     "execution_count": 3,
     "metadata": {},
     "output_type": "execute_result"
    }
   ],
   "source": [
    "type(arr)"
   ]
  },
  {
   "cell_type": "code",
   "execution_count": 4,
   "id": "1d6b40ef",
   "metadata": {},
   "outputs": [
    {
     "data": {
      "text/plain": [
       "1"
      ]
     },
     "execution_count": 4,
     "metadata": {},
     "output_type": "execute_result"
    }
   ],
   "source": [
    "arr.ndim # number of dimensions or axes"
   ]
  },
  {
   "cell_type": "code",
   "execution_count": 5,
   "id": "726a44fa",
   "metadata": {},
   "outputs": [
    {
     "data": {
      "text/plain": [
       "(3,)"
      ]
     },
     "execution_count": 5,
     "metadata": {},
     "output_type": "execute_result"
    }
   ],
   "source": [
    "arr.shape  # dimensions of the array"
   ]
  },
  {
   "cell_type": "code",
   "execution_count": 6,
   "id": "56a111f8",
   "metadata": {},
   "outputs": [
    {
     "data": {
      "text/plain": [
       "3"
      ]
     },
     "execution_count": 6,
     "metadata": {},
     "output_type": "execute_result"
    }
   ],
   "source": [
    "arr.size"
   ]
  },
  {
   "cell_type": "code",
   "execution_count": 7,
   "id": "e7a7b9d6",
   "metadata": {},
   "outputs": [],
   "source": [
    "arr = np.array([[1.1, 2.0, 3.14], [4.22, 5.54, 6.3]])"
   ]
  },
  {
   "cell_type": "code",
   "execution_count": 8,
   "id": "7b212ba9",
   "metadata": {},
   "outputs": [
    {
     "data": {
      "text/plain": [
       "(numpy.ndarray, 2, (2, 3), 6)"
      ]
     },
     "execution_count": 8,
     "metadata": {},
     "output_type": "execute_result"
    }
   ],
   "source": [
    "type(arr), arr.ndim, arr.shape, arr.size"
   ]
  },
  {
   "cell_type": "markdown",
   "id": "471b0426",
   "metadata": {},
   "source": [
    "## arrays with initial placeholder\n",
    "- expanding lists is expensive\n",
    "- provides ways to create arrays with initial placeholder content\n",
    "    - useful when we don't have data but size of the data is known"
   ]
  },
  {
   "cell_type": "code",
   "execution_count": 9,
   "id": "9436ceee",
   "metadata": {},
   "outputs": [
    {
     "data": {
      "text/plain": [
       "array([[0, 0, 0],\n",
       "       [0, 0, 0]])"
      ]
     },
     "execution_count": 9,
     "metadata": {},
     "output_type": "execute_result"
    }
   ],
   "source": [
    "# creating arrays with zeros\n",
    "arr = np.zeros((2,3), dtype=int)\n",
    "arr"
   ]
  },
  {
   "cell_type": "code",
   "execution_count": 10,
   "id": "bfae4db8",
   "metadata": {},
   "outputs": [
    {
     "data": {
      "text/plain": [
       "array([[1, 1, 1],\n",
       "       [1, 1, 1]])"
      ]
     },
     "execution_count": 10,
     "metadata": {},
     "output_type": "execute_result"
    }
   ],
   "source": [
    "# creating arrays with ones\n",
    "arr = np.ones((2, 3), dtype=int)\n",
    "arr"
   ]
  },
  {
   "cell_type": "code",
   "execution_count": 11,
   "id": "ef1fbeda",
   "metadata": {},
   "outputs": [
    {
     "name": "stdout",
     "output_type": "stream",
     "text": [
      "[1 3 5] [2 4 6]\n"
     ]
    },
    {
     "data": {
      "text/plain": [
       "array([ 3,  7, 11])"
      ]
     },
     "execution_count": 11,
     "metadata": {},
     "output_type": "execute_result"
    }
   ],
   "source": [
    "# creating arrays with arange\n",
    "x = np.array([1, 3, 5])\n",
    "y = np.arange(start=2, stop=8, step=2, dtype=int)\n",
    "print(x, y)\n",
    "x + y"
   ]
  },
  {
   "cell_type": "code",
   "execution_count": 12,
   "id": "954d13aa",
   "metadata": {},
   "outputs": [
    {
     "data": {
      "text/plain": [
       "array([0.5, 1.5, 2.5])"
      ]
     },
     "execution_count": 12,
     "metadata": {},
     "output_type": "execute_result"
    }
   ],
   "source": [
    "# an array operation\n",
    "x / 2"
   ]
  },
  {
   "cell_type": "code",
   "execution_count": 13,
   "id": "0fe405b5",
   "metadata": {},
   "outputs": [
    {
     "data": {
      "text/plain": [
       "array([[ 3,  2],\n",
       "       [ 8, 13]])"
      ]
     },
     "execution_count": 13,
     "metadata": {},
     "output_type": "execute_result"
    }
   ],
   "source": [
    "# multidimensional array operation\n",
    "x = np.array([[1, 2], [3, 4]])\n",
    "y = np.array([[2, 0], [5, 9]])\n",
    "x + y"
   ]
  },
  {
   "cell_type": "code",
   "execution_count": 14,
   "id": "03f44c30",
   "metadata": {},
   "outputs": [
    {
     "name": "stdout",
     "output_type": "stream",
     "text": [
      "[[1 2]\n",
      " [3 4]]\n",
      "[[2 0]\n",
      " [5 9]]\n"
     ]
    },
    {
     "data": {
      "text/plain": [
       "array([[ 2,  0],\n",
       "       [15, 36]])"
      ]
     },
     "execution_count": 14,
     "metadata": {},
     "output_type": "execute_result"
    }
   ],
   "source": [
    "print(x)\n",
    "print(y)\n",
    "x * y"
   ]
  },
  {
   "cell_type": "code",
   "execution_count": 15,
   "id": "ddafb0e5",
   "metadata": {},
   "outputs": [
    {
     "name": "stdout",
     "output_type": "stream",
     "text": [
      "[[1 2]\n",
      " [3 4]]\n",
      "[[2 0]\n",
      " [5 9]]\n"
     ]
    },
    {
     "data": {
      "text/plain": [
       "array([[12, 18],\n",
       "       [26, 36]])"
      ]
     },
     "execution_count": 15,
     "metadata": {},
     "output_type": "execute_result"
    }
   ],
   "source": [
    "print(x)\n",
    "print(y)\n",
    "x @ y"
   ]
  },
  {
   "cell_type": "code",
   "execution_count": 16,
   "id": "200743c5",
   "metadata": {},
   "outputs": [
    {
     "data": {
      "text/plain": [
       "array([[12, 18],\n",
       "       [26, 36]])"
      ]
     },
     "execution_count": 16,
     "metadata": {},
     "output_type": "execute_result"
    }
   ],
   "source": [
    "x.dot(y)"
   ]
  },
  {
   "cell_type": "code",
   "execution_count": 17,
   "id": "5aed6110",
   "metadata": {},
   "outputs": [
    {
     "data": {
      "text/plain": [
       "array([89, 43, 53, 16, 49, 98, 59, 42, 18, 86])"
      ]
     },
     "execution_count": 17,
     "metadata": {},
     "output_type": "execute_result"
    }
   ],
   "source": [
    "# some aggregation\n",
    "arr = np.random.randint(1, 100, 10)\n",
    "arr"
   ]
  },
  {
   "cell_type": "code",
   "execution_count": 18,
   "id": "3bf022f0",
   "metadata": {},
   "outputs": [
    {
     "data": {
      "text/plain": [
       "(553, 16, 98)"
      ]
     },
     "execution_count": 18,
     "metadata": {},
     "output_type": "execute_result"
    }
   ],
   "source": [
    "arr.sum(), arr.min(), arr.max()"
   ]
  },
  {
   "cell_type": "code",
   "execution_count": 19,
   "id": "3cf46b83",
   "metadata": {},
   "outputs": [
    {
     "data": {
      "text/plain": [
       "(5, 3, 55.3)"
      ]
     },
     "execution_count": 19,
     "metadata": {},
     "output_type": "execute_result"
    }
   ],
   "source": [
    "arr.argmax(), arr.argmin(), arr.mean()"
   ]
  },
  {
   "cell_type": "code",
   "execution_count": 20,
   "id": "40630b0e",
   "metadata": {},
   "outputs": [
    {
     "data": {
      "text/plain": [
       "['sepal_length,sepal_width,petal_length,petal_width,species\\n',\n",
       " '5.1,3.5,1.4,0.2,setosa\\n',\n",
       " '4.9,3.0,1.4,0.2,setosa\\n',\n",
       " '4.7,3.2,1.3,0.2,setosa\\n',\n",
       " '4.6,3.1,1.5,0.2,setosa\\n',\n",
       " '5.0,3.6,1.4,0.2,setosa\\n',\n",
       " '5.4,3.9,1.7,0.4,setosa\\n',\n",
       " '4.6,3.4,1.4,0.3,setosa\\n',\n",
       " '5.0,3.4,1.5,0.2,setosa\\n',\n",
       " '4.4,2.9,1.4,0.2,setosa\\n',\n",
       " '4.9,3.1,1.5,0.1,setosa\\n',\n",
       " '5.4,3.7,1.5,0.2,setosa\\n',\n",
       " '4.8,3.4,1.6,0.2,setosa\\n',\n",
       " '4.8,3.0,1.4,0.1,setosa\\n',\n",
       " '4.3,3.0,1.1,0.1,setosa\\n',\n",
       " '5.8,4.0,1.2,0.2,setosa\\n',\n",
       " '5.7,4.4,1.5,0.4,setosa\\n',\n",
       " '5.4,3.9,1.3,0.4,setosa\\n',\n",
       " '5.1,3.5,1.4,0.3,setosa\\n',\n",
       " '5.7,3.8,1.7,0.3,setosa\\n',\n",
       " '5.1,3.8,1.5,0.3,setosa\\n',\n",
       " '5.4,3.4,1.7,0.2,setosa\\n',\n",
       " '5.1,3.7,1.5,0.4,setosa\\n',\n",
       " '4.6,3.6,1.0,0.2,setosa\\n',\n",
       " '5.1,3.3,1.7,0.5,setosa\\n',\n",
       " '4.8,3.4,1.9,0.2,setosa\\n',\n",
       " '5.0,3.0,1.6,0.2,setosa\\n',\n",
       " '5.0,3.4,1.6,0.4,setosa\\n',\n",
       " '5.2,3.5,1.5,0.2,setosa\\n',\n",
       " '5.2,3.4,1.4,0.2,setosa\\n',\n",
       " '4.7,3.2,1.6,0.2,setosa\\n',\n",
       " '4.8,3.1,1.6,0.2,setosa\\n',\n",
       " '5.4,3.4,1.5,0.4,setosa\\n',\n",
       " '5.2,4.1,1.5,0.1,setosa\\n',\n",
       " '5.5,4.2,1.4,0.2,setosa\\n',\n",
       " '4.9,3.1,1.5,0.2,setosa\\n',\n",
       " '5.0,3.2,1.2,0.2,setosa\\n',\n",
       " '5.5,3.5,1.3,0.2,setosa\\n',\n",
       " '4.9,3.6,1.4,0.1,setosa\\n',\n",
       " '4.4,3.0,1.3,0.2,setosa\\n',\n",
       " '5.1,3.4,1.5,0.2,setosa\\n',\n",
       " '5.0,3.5,1.3,0.3,setosa\\n',\n",
       " '4.5,2.3,1.3,0.3,setosa\\n',\n",
       " '4.4,3.2,1.3,0.2,setosa\\n',\n",
       " '5.0,3.5,1.6,0.6,setosa\\n',\n",
       " '5.1,3.8,1.9,0.4,setosa\\n',\n",
       " '4.8,3.0,1.4,0.3,setosa\\n',\n",
       " '5.1,3.8,1.6,0.2,setosa\\n',\n",
       " '4.6,3.2,1.4,0.2,setosa\\n',\n",
       " '5.3,3.7,1.5,0.2,setosa\\n',\n",
       " '5.0,3.3,1.4,0.2,setosa\\n',\n",
       " '7.0,3.2,4.7,1.4,versicolor\\n',\n",
       " '6.4,3.2,4.5,1.5,versicolor\\n',\n",
       " '6.9,3.1,4.9,1.5,versicolor\\n',\n",
       " '5.5,2.3,4.0,1.3,versicolor\\n',\n",
       " '6.5,2.8,4.6,1.5,versicolor\\n',\n",
       " '5.7,2.8,4.5,1.3,versicolor\\n',\n",
       " '6.3,3.3,4.7,1.6,versicolor\\n',\n",
       " '4.9,2.4,3.3,1.0,versicolor\\n',\n",
       " '6.6,2.9,4.6,1.3,versicolor\\n',\n",
       " '5.2,2.7,3.9,1.4,versicolor\\n',\n",
       " '5.0,2.0,3.5,1.0,versicolor\\n',\n",
       " '5.9,3.0,4.2,1.5,versicolor\\n',\n",
       " '6.0,2.2,4.0,1.0,versicolor\\n',\n",
       " '6.1,2.9,4.7,1.4,versicolor\\n',\n",
       " '5.6,2.9,3.6,1.3,versicolor\\n',\n",
       " '6.7,3.1,4.4,1.4,versicolor\\n',\n",
       " '5.6,3.0,4.5,1.5,versicolor\\n',\n",
       " '5.8,2.7,4.1,1.0,versicolor\\n',\n",
       " '6.2,2.2,4.5,1.5,versicolor\\n',\n",
       " '5.6,2.5,3.9,1.1,versicolor\\n',\n",
       " '5.9,3.2,4.8,1.8,versicolor\\n',\n",
       " '6.1,2.8,4.0,1.3,versicolor\\n',\n",
       " '6.3,2.5,4.9,1.5,versicolor\\n',\n",
       " '6.1,2.8,4.7,1.2,versicolor\\n',\n",
       " '6.4,2.9,4.3,1.3,versicolor\\n',\n",
       " '6.6,3.0,4.4,1.4,versicolor\\n',\n",
       " '6.8,2.8,4.8,1.4,versicolor\\n',\n",
       " '6.7,3.0,5.0,1.7,versicolor\\n',\n",
       " '6.0,2.9,4.5,1.5,versicolor\\n',\n",
       " '5.7,2.6,3.5,1.0,versicolor\\n',\n",
       " '5.5,2.4,3.8,1.1,versicolor\\n',\n",
       " '5.5,2.4,3.7,1.0,versicolor\\n',\n",
       " '5.8,2.7,3.9,1.2,versicolor\\n',\n",
       " '6.0,2.7,5.1,1.6,versicolor\\n',\n",
       " '5.4,3.0,4.5,1.5,versicolor\\n',\n",
       " '6.0,3.4,4.5,1.6,versicolor\\n',\n",
       " '6.7,3.1,4.7,1.5,versicolor\\n',\n",
       " '6.3,2.3,4.4,1.3,versicolor\\n',\n",
       " '5.6,3.0,4.1,1.3,versicolor\\n',\n",
       " '5.5,2.5,4.0,1.3,versicolor\\n',\n",
       " '5.5,2.6,4.4,1.2,versicolor\\n',\n",
       " '6.1,3.0,4.6,1.4,versicolor\\n',\n",
       " '5.8,2.6,4.0,1.2,versicolor\\n',\n",
       " '5.0,2.3,3.3,1.0,versicolor\\n',\n",
       " '5.6,2.7,4.2,1.3,versicolor\\n',\n",
       " '5.7,3.0,4.2,1.2,versicolor\\n',\n",
       " '5.7,2.9,4.2,1.3,versicolor\\n',\n",
       " '6.2,2.9,4.3,1.3,versicolor\\n',\n",
       " '5.1,2.5,3.0,1.1,versicolor\\n',\n",
       " '5.7,2.8,4.1,1.3,versicolor\\n',\n",
       " '6.3,3.3,6.0,2.5,virginica\\n',\n",
       " '5.8,2.7,5.1,1.9,virginica\\n',\n",
       " '7.1,3.0,5.9,2.1,virginica\\n',\n",
       " '6.3,2.9,5.6,1.8,virginica\\n',\n",
       " '6.5,3.0,5.8,2.2,virginica\\n',\n",
       " '7.6,3.0,6.6,2.1,virginica\\n',\n",
       " '4.9,2.5,4.5,1.7,virginica\\n',\n",
       " '7.3,2.9,6.3,1.8,virginica\\n',\n",
       " '6.7,2.5,5.8,1.8,virginica\\n',\n",
       " '7.2,3.6,6.1,2.5,virginica\\n',\n",
       " '6.5,3.2,5.1,2.0,virginica\\n',\n",
       " '6.4,2.7,5.3,1.9,virginica\\n',\n",
       " '6.8,3.0,5.5,2.1,virginica\\n',\n",
       " '5.7,2.5,5.0,2.0,virginica\\n',\n",
       " '5.8,2.8,5.1,2.4,virginica\\n',\n",
       " '6.4,3.2,5.3,2.3,virginica\\n',\n",
       " '6.5,3.0,5.5,1.8,virginica\\n',\n",
       " '7.7,3.8,6.7,2.2,virginica\\n',\n",
       " '7.7,2.6,6.9,2.3,virginica\\n',\n",
       " '6.0,2.2,5.0,1.5,virginica\\n',\n",
       " '6.9,3.2,5.7,2.3,virginica\\n',\n",
       " '5.6,2.8,4.9,2.0,virginica\\n',\n",
       " '7.7,2.8,6.7,2.0,virginica\\n',\n",
       " '6.3,2.7,4.9,1.8,virginica\\n',\n",
       " '6.7,3.3,5.7,2.1,virginica\\n',\n",
       " '7.2,3.2,6.0,1.8,virginica\\n',\n",
       " '6.2,2.8,4.8,1.8,virginica\\n',\n",
       " '6.1,3.0,4.9,1.8,virginica\\n',\n",
       " '6.4,2.8,5.6,2.1,virginica\\n',\n",
       " '7.2,3.0,5.8,1.6,virginica\\n',\n",
       " '7.4,2.8,6.1,1.9,virginica\\n',\n",
       " '7.9,3.8,6.4,2.0,virginica\\n',\n",
       " '6.4,2.8,5.6,2.2,virginica\\n',\n",
       " '6.3,2.8,5.1,1.5,virginica\\n',\n",
       " '6.1,2.6,5.6,1.4,virginica\\n',\n",
       " '7.7,3.0,6.1,2.3,virginica\\n',\n",
       " '6.3,3.4,5.6,2.4,virginica\\n',\n",
       " '6.4,3.1,5.5,1.8,virginica\\n',\n",
       " '6.0,3.0,4.8,1.8,virginica\\n',\n",
       " '6.9,3.1,5.4,2.1,virginica\\n',\n",
       " '6.7,3.1,5.6,2.4,virginica\\n',\n",
       " '6.9,3.1,5.1,2.3,virginica\\n',\n",
       " '5.8,2.7,5.1,1.9,virginica\\n',\n",
       " '6.8,3.2,5.9,2.3,virginica\\n',\n",
       " '6.7,3.3,5.7,2.5,virginica\\n',\n",
       " '6.7,3.0,5.2,2.3,virginica\\n',\n",
       " '6.3,2.5,5.0,1.9,virginica\\n',\n",
       " '6.5,3.0,5.2,2.0,virginica\\n',\n",
       " '6.2,3.4,5.4,2.3,virginica\\n',\n",
       " '5.9,3.0,5.1,1.8,virginica\\n']"
      ]
     },
     "execution_count": 20,
     "metadata": {},
     "output_type": "execute_result"
    }
   ],
   "source": [
    "# Working with Files\n",
    "with open('iris.csv') as f:\n",
    "    lines = f.readlines()\n",
    "lines"
   ]
  },
  {
   "cell_type": "code",
   "execution_count": 21,
   "id": "9ee8df2d",
   "metadata": {},
   "outputs": [
    {
     "data": {
      "text/plain": [
       "[['sepal_length', 'sepal_width', 'petal_length', 'petal_width', 'species'],\n",
       " ['5.1', '3.5', '1.4', '0.2', 'setosa'],\n",
       " ['4.9', '3.0', '1.4', '0.2', 'setosa'],\n",
       " ['4.7', '3.2', '1.3', '0.2', 'setosa'],\n",
       " ['4.6', '3.1', '1.5', '0.2', 'setosa'],\n",
       " ['5.0', '3.6', '1.4', '0.2', 'setosa'],\n",
       " ['5.4', '3.9', '1.7', '0.4', 'setosa'],\n",
       " ['4.6', '3.4', '1.4', '0.3', 'setosa'],\n",
       " ['5.0', '3.4', '1.5', '0.2', 'setosa'],\n",
       " ['4.4', '2.9', '1.4', '0.2', 'setosa'],\n",
       " ['4.9', '3.1', '1.5', '0.1', 'setosa'],\n",
       " ['5.4', '3.7', '1.5', '0.2', 'setosa'],\n",
       " ['4.8', '3.4', '1.6', '0.2', 'setosa'],\n",
       " ['4.8', '3.0', '1.4', '0.1', 'setosa'],\n",
       " ['4.3', '3.0', '1.1', '0.1', 'setosa'],\n",
       " ['5.8', '4.0', '1.2', '0.2', 'setosa'],\n",
       " ['5.7', '4.4', '1.5', '0.4', 'setosa'],\n",
       " ['5.4', '3.9', '1.3', '0.4', 'setosa'],\n",
       " ['5.1', '3.5', '1.4', '0.3', 'setosa'],\n",
       " ['5.7', '3.8', '1.7', '0.3', 'setosa'],\n",
       " ['5.1', '3.8', '1.5', '0.3', 'setosa'],\n",
       " ['5.4', '3.4', '1.7', '0.2', 'setosa'],\n",
       " ['5.1', '3.7', '1.5', '0.4', 'setosa'],\n",
       " ['4.6', '3.6', '1.0', '0.2', 'setosa'],\n",
       " ['5.1', '3.3', '1.7', '0.5', 'setosa'],\n",
       " ['4.8', '3.4', '1.9', '0.2', 'setosa'],\n",
       " ['5.0', '3.0', '1.6', '0.2', 'setosa'],\n",
       " ['5.0', '3.4', '1.6', '0.4', 'setosa'],\n",
       " ['5.2', '3.5', '1.5', '0.2', 'setosa'],\n",
       " ['5.2', '3.4', '1.4', '0.2', 'setosa'],\n",
       " ['4.7', '3.2', '1.6', '0.2', 'setosa'],\n",
       " ['4.8', '3.1', '1.6', '0.2', 'setosa'],\n",
       " ['5.4', '3.4', '1.5', '0.4', 'setosa'],\n",
       " ['5.2', '4.1', '1.5', '0.1', 'setosa'],\n",
       " ['5.5', '4.2', '1.4', '0.2', 'setosa'],\n",
       " ['4.9', '3.1', '1.5', '0.2', 'setosa'],\n",
       " ['5.0', '3.2', '1.2', '0.2', 'setosa'],\n",
       " ['5.5', '3.5', '1.3', '0.2', 'setosa'],\n",
       " ['4.9', '3.6', '1.4', '0.1', 'setosa'],\n",
       " ['4.4', '3.0', '1.3', '0.2', 'setosa'],\n",
       " ['5.1', '3.4', '1.5', '0.2', 'setosa'],\n",
       " ['5.0', '3.5', '1.3', '0.3', 'setosa'],\n",
       " ['4.5', '2.3', '1.3', '0.3', 'setosa'],\n",
       " ['4.4', '3.2', '1.3', '0.2', 'setosa'],\n",
       " ['5.0', '3.5', '1.6', '0.6', 'setosa'],\n",
       " ['5.1', '3.8', '1.9', '0.4', 'setosa'],\n",
       " ['4.8', '3.0', '1.4', '0.3', 'setosa'],\n",
       " ['5.1', '3.8', '1.6', '0.2', 'setosa'],\n",
       " ['4.6', '3.2', '1.4', '0.2', 'setosa'],\n",
       " ['5.3', '3.7', '1.5', '0.2', 'setosa'],\n",
       " ['5.0', '3.3', '1.4', '0.2', 'setosa'],\n",
       " ['7.0', '3.2', '4.7', '1.4', 'versicolor'],\n",
       " ['6.4', '3.2', '4.5', '1.5', 'versicolor'],\n",
       " ['6.9', '3.1', '4.9', '1.5', 'versicolor'],\n",
       " ['5.5', '2.3', '4.0', '1.3', 'versicolor'],\n",
       " ['6.5', '2.8', '4.6', '1.5', 'versicolor'],\n",
       " ['5.7', '2.8', '4.5', '1.3', 'versicolor'],\n",
       " ['6.3', '3.3', '4.7', '1.6', 'versicolor'],\n",
       " ['4.9', '2.4', '3.3', '1.0', 'versicolor'],\n",
       " ['6.6', '2.9', '4.6', '1.3', 'versicolor'],\n",
       " ['5.2', '2.7', '3.9', '1.4', 'versicolor'],\n",
       " ['5.0', '2.0', '3.5', '1.0', 'versicolor'],\n",
       " ['5.9', '3.0', '4.2', '1.5', 'versicolor'],\n",
       " ['6.0', '2.2', '4.0', '1.0', 'versicolor'],\n",
       " ['6.1', '2.9', '4.7', '1.4', 'versicolor'],\n",
       " ['5.6', '2.9', '3.6', '1.3', 'versicolor'],\n",
       " ['6.7', '3.1', '4.4', '1.4', 'versicolor'],\n",
       " ['5.6', '3.0', '4.5', '1.5', 'versicolor'],\n",
       " ['5.8', '2.7', '4.1', '1.0', 'versicolor'],\n",
       " ['6.2', '2.2', '4.5', '1.5', 'versicolor'],\n",
       " ['5.6', '2.5', '3.9', '1.1', 'versicolor'],\n",
       " ['5.9', '3.2', '4.8', '1.8', 'versicolor'],\n",
       " ['6.1', '2.8', '4.0', '1.3', 'versicolor'],\n",
       " ['6.3', '2.5', '4.9', '1.5', 'versicolor'],\n",
       " ['6.1', '2.8', '4.7', '1.2', 'versicolor'],\n",
       " ['6.4', '2.9', '4.3', '1.3', 'versicolor'],\n",
       " ['6.6', '3.0', '4.4', '1.4', 'versicolor'],\n",
       " ['6.8', '2.8', '4.8', '1.4', 'versicolor'],\n",
       " ['6.7', '3.0', '5.0', '1.7', 'versicolor'],\n",
       " ['6.0', '2.9', '4.5', '1.5', 'versicolor'],\n",
       " ['5.7', '2.6', '3.5', '1.0', 'versicolor'],\n",
       " ['5.5', '2.4', '3.8', '1.1', 'versicolor'],\n",
       " ['5.5', '2.4', '3.7', '1.0', 'versicolor'],\n",
       " ['5.8', '2.7', '3.9', '1.2', 'versicolor'],\n",
       " ['6.0', '2.7', '5.1', '1.6', 'versicolor'],\n",
       " ['5.4', '3.0', '4.5', '1.5', 'versicolor'],\n",
       " ['6.0', '3.4', '4.5', '1.6', 'versicolor'],\n",
       " ['6.7', '3.1', '4.7', '1.5', 'versicolor'],\n",
       " ['6.3', '2.3', '4.4', '1.3', 'versicolor'],\n",
       " ['5.6', '3.0', '4.1', '1.3', 'versicolor'],\n",
       " ['5.5', '2.5', '4.0', '1.3', 'versicolor'],\n",
       " ['5.5', '2.6', '4.4', '1.2', 'versicolor'],\n",
       " ['6.1', '3.0', '4.6', '1.4', 'versicolor'],\n",
       " ['5.8', '2.6', '4.0', '1.2', 'versicolor'],\n",
       " ['5.0', '2.3', '3.3', '1.0', 'versicolor'],\n",
       " ['5.6', '2.7', '4.2', '1.3', 'versicolor'],\n",
       " ['5.7', '3.0', '4.2', '1.2', 'versicolor'],\n",
       " ['5.7', '2.9', '4.2', '1.3', 'versicolor'],\n",
       " ['6.2', '2.9', '4.3', '1.3', 'versicolor'],\n",
       " ['5.1', '2.5', '3.0', '1.1', 'versicolor'],\n",
       " ['5.7', '2.8', '4.1', '1.3', 'versicolor'],\n",
       " ['6.3', '3.3', '6.0', '2.5', 'virginica'],\n",
       " ['5.8', '2.7', '5.1', '1.9', 'virginica'],\n",
       " ['7.1', '3.0', '5.9', '2.1', 'virginica'],\n",
       " ['6.3', '2.9', '5.6', '1.8', 'virginica'],\n",
       " ['6.5', '3.0', '5.8', '2.2', 'virginica'],\n",
       " ['7.6', '3.0', '6.6', '2.1', 'virginica'],\n",
       " ['4.9', '2.5', '4.5', '1.7', 'virginica'],\n",
       " ['7.3', '2.9', '6.3', '1.8', 'virginica'],\n",
       " ['6.7', '2.5', '5.8', '1.8', 'virginica'],\n",
       " ['7.2', '3.6', '6.1', '2.5', 'virginica'],\n",
       " ['6.5', '3.2', '5.1', '2.0', 'virginica'],\n",
       " ['6.4', '2.7', '5.3', '1.9', 'virginica'],\n",
       " ['6.8', '3.0', '5.5', '2.1', 'virginica'],\n",
       " ['5.7', '2.5', '5.0', '2.0', 'virginica'],\n",
       " ['5.8', '2.8', '5.1', '2.4', 'virginica'],\n",
       " ['6.4', '3.2', '5.3', '2.3', 'virginica'],\n",
       " ['6.5', '3.0', '5.5', '1.8', 'virginica'],\n",
       " ['7.7', '3.8', '6.7', '2.2', 'virginica'],\n",
       " ['7.7', '2.6', '6.9', '2.3', 'virginica'],\n",
       " ['6.0', '2.2', '5.0', '1.5', 'virginica'],\n",
       " ['6.9', '3.2', '5.7', '2.3', 'virginica'],\n",
       " ['5.6', '2.8', '4.9', '2.0', 'virginica'],\n",
       " ['7.7', '2.8', '6.7', '2.0', 'virginica'],\n",
       " ['6.3', '2.7', '4.9', '1.8', 'virginica'],\n",
       " ['6.7', '3.3', '5.7', '2.1', 'virginica'],\n",
       " ['7.2', '3.2', '6.0', '1.8', 'virginica'],\n",
       " ['6.2', '2.8', '4.8', '1.8', 'virginica'],\n",
       " ['6.1', '3.0', '4.9', '1.8', 'virginica'],\n",
       " ['6.4', '2.8', '5.6', '2.1', 'virginica'],\n",
       " ['7.2', '3.0', '5.8', '1.6', 'virginica'],\n",
       " ['7.4', '2.8', '6.1', '1.9', 'virginica'],\n",
       " ['7.9', '3.8', '6.4', '2.0', 'virginica'],\n",
       " ['6.4', '2.8', '5.6', '2.2', 'virginica'],\n",
       " ['6.3', '2.8', '5.1', '1.5', 'virginica'],\n",
       " ['6.1', '2.6', '5.6', '1.4', 'virginica'],\n",
       " ['7.7', '3.0', '6.1', '2.3', 'virginica'],\n",
       " ['6.3', '3.4', '5.6', '2.4', 'virginica'],\n",
       " ['6.4', '3.1', '5.5', '1.8', 'virginica'],\n",
       " ['6.0', '3.0', '4.8', '1.8', 'virginica'],\n",
       " ['6.9', '3.1', '5.4', '2.1', 'virginica'],\n",
       " ['6.7', '3.1', '5.6', '2.4', 'virginica'],\n",
       " ['6.9', '3.1', '5.1', '2.3', 'virginica'],\n",
       " ['5.8', '2.7', '5.1', '1.9', 'virginica'],\n",
       " ['6.8', '3.2', '5.9', '2.3', 'virginica'],\n",
       " ['6.7', '3.3', '5.7', '2.5', 'virginica'],\n",
       " ['6.7', '3.0', '5.2', '2.3', 'virginica'],\n",
       " ['6.3', '2.5', '5.0', '1.9', 'virginica'],\n",
       " ['6.5', '3.0', '5.2', '2.0', 'virginica'],\n",
       " ['6.2', '3.4', '5.4', '2.3', 'virginica'],\n",
       " ['5.9', '3.0', '5.1', '1.8', 'virginica']]"
      ]
     },
     "execution_count": 21,
     "metadata": {},
     "output_type": "execute_result"
    }
   ],
   "source": [
    "data = []\n",
    "for line in lines:\n",
    "    data.append(line.strip().split(','))\n",
    "data"
   ]
  },
  {
   "cell_type": "code",
   "execution_count": 22,
   "id": "8afbf039",
   "metadata": {},
   "outputs": [
    {
     "data": {
      "text/plain": [
       "array([['sepal_length', 'sepal_width', 'petal_length', 'petal_width',\n",
       "        'species'],\n",
       "       ['5.1', '3.5', '1.4', '0.2', 'setosa'],\n",
       "       ['4.9', '3.0', '1.4', '0.2', 'setosa'],\n",
       "       ['4.7', '3.2', '1.3', '0.2', 'setosa'],\n",
       "       ['4.6', '3.1', '1.5', '0.2', 'setosa'],\n",
       "       ['5.0', '3.6', '1.4', '0.2', 'setosa'],\n",
       "       ['5.4', '3.9', '1.7', '0.4', 'setosa'],\n",
       "       ['4.6', '3.4', '1.4', '0.3', 'setosa'],\n",
       "       ['5.0', '3.4', '1.5', '0.2', 'setosa'],\n",
       "       ['4.4', '2.9', '1.4', '0.2', 'setosa'],\n",
       "       ['4.9', '3.1', '1.5', '0.1', 'setosa'],\n",
       "       ['5.4', '3.7', '1.5', '0.2', 'setosa'],\n",
       "       ['4.8', '3.4', '1.6', '0.2', 'setosa'],\n",
       "       ['4.8', '3.0', '1.4', '0.1', 'setosa'],\n",
       "       ['4.3', '3.0', '1.1', '0.1', 'setosa'],\n",
       "       ['5.8', '4.0', '1.2', '0.2', 'setosa'],\n",
       "       ['5.7', '4.4', '1.5', '0.4', 'setosa'],\n",
       "       ['5.4', '3.9', '1.3', '0.4', 'setosa'],\n",
       "       ['5.1', '3.5', '1.4', '0.3', 'setosa'],\n",
       "       ['5.7', '3.8', '1.7', '0.3', 'setosa'],\n",
       "       ['5.1', '3.8', '1.5', '0.3', 'setosa'],\n",
       "       ['5.4', '3.4', '1.7', '0.2', 'setosa'],\n",
       "       ['5.1', '3.7', '1.5', '0.4', 'setosa'],\n",
       "       ['4.6', '3.6', '1.0', '0.2', 'setosa'],\n",
       "       ['5.1', '3.3', '1.7', '0.5', 'setosa'],\n",
       "       ['4.8', '3.4', '1.9', '0.2', 'setosa'],\n",
       "       ['5.0', '3.0', '1.6', '0.2', 'setosa'],\n",
       "       ['5.0', '3.4', '1.6', '0.4', 'setosa'],\n",
       "       ['5.2', '3.5', '1.5', '0.2', 'setosa'],\n",
       "       ['5.2', '3.4', '1.4', '0.2', 'setosa'],\n",
       "       ['4.7', '3.2', '1.6', '0.2', 'setosa'],\n",
       "       ['4.8', '3.1', '1.6', '0.2', 'setosa'],\n",
       "       ['5.4', '3.4', '1.5', '0.4', 'setosa'],\n",
       "       ['5.2', '4.1', '1.5', '0.1', 'setosa'],\n",
       "       ['5.5', '4.2', '1.4', '0.2', 'setosa'],\n",
       "       ['4.9', '3.1', '1.5', '0.2', 'setosa'],\n",
       "       ['5.0', '3.2', '1.2', '0.2', 'setosa'],\n",
       "       ['5.5', '3.5', '1.3', '0.2', 'setosa'],\n",
       "       ['4.9', '3.6', '1.4', '0.1', 'setosa'],\n",
       "       ['4.4', '3.0', '1.3', '0.2', 'setosa'],\n",
       "       ['5.1', '3.4', '1.5', '0.2', 'setosa'],\n",
       "       ['5.0', '3.5', '1.3', '0.3', 'setosa'],\n",
       "       ['4.5', '2.3', '1.3', '0.3', 'setosa'],\n",
       "       ['4.4', '3.2', '1.3', '0.2', 'setosa'],\n",
       "       ['5.0', '3.5', '1.6', '0.6', 'setosa'],\n",
       "       ['5.1', '3.8', '1.9', '0.4', 'setosa'],\n",
       "       ['4.8', '3.0', '1.4', '0.3', 'setosa'],\n",
       "       ['5.1', '3.8', '1.6', '0.2', 'setosa'],\n",
       "       ['4.6', '3.2', '1.4', '0.2', 'setosa'],\n",
       "       ['5.3', '3.7', '1.5', '0.2', 'setosa'],\n",
       "       ['5.0', '3.3', '1.4', '0.2', 'setosa'],\n",
       "       ['7.0', '3.2', '4.7', '1.4', 'versicolor'],\n",
       "       ['6.4', '3.2', '4.5', '1.5', 'versicolor'],\n",
       "       ['6.9', '3.1', '4.9', '1.5', 'versicolor'],\n",
       "       ['5.5', '2.3', '4.0', '1.3', 'versicolor'],\n",
       "       ['6.5', '2.8', '4.6', '1.5', 'versicolor'],\n",
       "       ['5.7', '2.8', '4.5', '1.3', 'versicolor'],\n",
       "       ['6.3', '3.3', '4.7', '1.6', 'versicolor'],\n",
       "       ['4.9', '2.4', '3.3', '1.0', 'versicolor'],\n",
       "       ['6.6', '2.9', '4.6', '1.3', 'versicolor'],\n",
       "       ['5.2', '2.7', '3.9', '1.4', 'versicolor'],\n",
       "       ['5.0', '2.0', '3.5', '1.0', 'versicolor'],\n",
       "       ['5.9', '3.0', '4.2', '1.5', 'versicolor'],\n",
       "       ['6.0', '2.2', '4.0', '1.0', 'versicolor'],\n",
       "       ['6.1', '2.9', '4.7', '1.4', 'versicolor'],\n",
       "       ['5.6', '2.9', '3.6', '1.3', 'versicolor'],\n",
       "       ['6.7', '3.1', '4.4', '1.4', 'versicolor'],\n",
       "       ['5.6', '3.0', '4.5', '1.5', 'versicolor'],\n",
       "       ['5.8', '2.7', '4.1', '1.0', 'versicolor'],\n",
       "       ['6.2', '2.2', '4.5', '1.5', 'versicolor'],\n",
       "       ['5.6', '2.5', '3.9', '1.1', 'versicolor'],\n",
       "       ['5.9', '3.2', '4.8', '1.8', 'versicolor'],\n",
       "       ['6.1', '2.8', '4.0', '1.3', 'versicolor'],\n",
       "       ['6.3', '2.5', '4.9', '1.5', 'versicolor'],\n",
       "       ['6.1', '2.8', '4.7', '1.2', 'versicolor'],\n",
       "       ['6.4', '2.9', '4.3', '1.3', 'versicolor'],\n",
       "       ['6.6', '3.0', '4.4', '1.4', 'versicolor'],\n",
       "       ['6.8', '2.8', '4.8', '1.4', 'versicolor'],\n",
       "       ['6.7', '3.0', '5.0', '1.7', 'versicolor'],\n",
       "       ['6.0', '2.9', '4.5', '1.5', 'versicolor'],\n",
       "       ['5.7', '2.6', '3.5', '1.0', 'versicolor'],\n",
       "       ['5.5', '2.4', '3.8', '1.1', 'versicolor'],\n",
       "       ['5.5', '2.4', '3.7', '1.0', 'versicolor'],\n",
       "       ['5.8', '2.7', '3.9', '1.2', 'versicolor'],\n",
       "       ['6.0', '2.7', '5.1', '1.6', 'versicolor'],\n",
       "       ['5.4', '3.0', '4.5', '1.5', 'versicolor'],\n",
       "       ['6.0', '3.4', '4.5', '1.6', 'versicolor'],\n",
       "       ['6.7', '3.1', '4.7', '1.5', 'versicolor'],\n",
       "       ['6.3', '2.3', '4.4', '1.3', 'versicolor'],\n",
       "       ['5.6', '3.0', '4.1', '1.3', 'versicolor'],\n",
       "       ['5.5', '2.5', '4.0', '1.3', 'versicolor'],\n",
       "       ['5.5', '2.6', '4.4', '1.2', 'versicolor'],\n",
       "       ['6.1', '3.0', '4.6', '1.4', 'versicolor'],\n",
       "       ['5.8', '2.6', '4.0', '1.2', 'versicolor'],\n",
       "       ['5.0', '2.3', '3.3', '1.0', 'versicolor'],\n",
       "       ['5.6', '2.7', '4.2', '1.3', 'versicolor'],\n",
       "       ['5.7', '3.0', '4.2', '1.2', 'versicolor'],\n",
       "       ['5.7', '2.9', '4.2', '1.3', 'versicolor'],\n",
       "       ['6.2', '2.9', '4.3', '1.3', 'versicolor'],\n",
       "       ['5.1', '2.5', '3.0', '1.1', 'versicolor'],\n",
       "       ['5.7', '2.8', '4.1', '1.3', 'versicolor'],\n",
       "       ['6.3', '3.3', '6.0', '2.5', 'virginica'],\n",
       "       ['5.8', '2.7', '5.1', '1.9', 'virginica'],\n",
       "       ['7.1', '3.0', '5.9', '2.1', 'virginica'],\n",
       "       ['6.3', '2.9', '5.6', '1.8', 'virginica'],\n",
       "       ['6.5', '3.0', '5.8', '2.2', 'virginica'],\n",
       "       ['7.6', '3.0', '6.6', '2.1', 'virginica'],\n",
       "       ['4.9', '2.5', '4.5', '1.7', 'virginica'],\n",
       "       ['7.3', '2.9', '6.3', '1.8', 'virginica'],\n",
       "       ['6.7', '2.5', '5.8', '1.8', 'virginica'],\n",
       "       ['7.2', '3.6', '6.1', '2.5', 'virginica'],\n",
       "       ['6.5', '3.2', '5.1', '2.0', 'virginica'],\n",
       "       ['6.4', '2.7', '5.3', '1.9', 'virginica'],\n",
       "       ['6.8', '3.0', '5.5', '2.1', 'virginica'],\n",
       "       ['5.7', '2.5', '5.0', '2.0', 'virginica'],\n",
       "       ['5.8', '2.8', '5.1', '2.4', 'virginica'],\n",
       "       ['6.4', '3.2', '5.3', '2.3', 'virginica'],\n",
       "       ['6.5', '3.0', '5.5', '1.8', 'virginica'],\n",
       "       ['7.7', '3.8', '6.7', '2.2', 'virginica'],\n",
       "       ['7.7', '2.6', '6.9', '2.3', 'virginica'],\n",
       "       ['6.0', '2.2', '5.0', '1.5', 'virginica'],\n",
       "       ['6.9', '3.2', '5.7', '2.3', 'virginica'],\n",
       "       ['5.6', '2.8', '4.9', '2.0', 'virginica'],\n",
       "       ['7.7', '2.8', '6.7', '2.0', 'virginica'],\n",
       "       ['6.3', '2.7', '4.9', '1.8', 'virginica'],\n",
       "       ['6.7', '3.3', '5.7', '2.1', 'virginica'],\n",
       "       ['7.2', '3.2', '6.0', '1.8', 'virginica'],\n",
       "       ['6.2', '2.8', '4.8', '1.8', 'virginica'],\n",
       "       ['6.1', '3.0', '4.9', '1.8', 'virginica'],\n",
       "       ['6.4', '2.8', '5.6', '2.1', 'virginica'],\n",
       "       ['7.2', '3.0', '5.8', '1.6', 'virginica'],\n",
       "       ['7.4', '2.8', '6.1', '1.9', 'virginica'],\n",
       "       ['7.9', '3.8', '6.4', '2.0', 'virginica'],\n",
       "       ['6.4', '2.8', '5.6', '2.2', 'virginica'],\n",
       "       ['6.3', '2.8', '5.1', '1.5', 'virginica'],\n",
       "       ['6.1', '2.6', '5.6', '1.4', 'virginica'],\n",
       "       ['7.7', '3.0', '6.1', '2.3', 'virginica'],\n",
       "       ['6.3', '3.4', '5.6', '2.4', 'virginica'],\n",
       "       ['6.4', '3.1', '5.5', '1.8', 'virginica'],\n",
       "       ['6.0', '3.0', '4.8', '1.8', 'virginica'],\n",
       "       ['6.9', '3.1', '5.4', '2.1', 'virginica'],\n",
       "       ['6.7', '3.1', '5.6', '2.4', 'virginica'],\n",
       "       ['6.9', '3.1', '5.1', '2.3', 'virginica'],\n",
       "       ['5.8', '2.7', '5.1', '1.9', 'virginica'],\n",
       "       ['6.8', '3.2', '5.9', '2.3', 'virginica'],\n",
       "       ['6.7', '3.3', '5.7', '2.5', 'virginica'],\n",
       "       ['6.7', '3.0', '5.2', '2.3', 'virginica'],\n",
       "       ['6.3', '2.5', '5.0', '1.9', 'virginica'],\n",
       "       ['6.5', '3.0', '5.2', '2.0', 'virginica'],\n",
       "       ['6.2', '3.4', '5.4', '2.3', 'virginica'],\n",
       "       ['5.9', '3.0', '5.1', '1.8', 'virginica']], dtype='<U12')"
      ]
     },
     "execution_count": 22,
     "metadata": {},
     "output_type": "execute_result"
    }
   ],
   "source": [
    "data_arr = np.array(data)\n",
    "data_arr"
   ]
  },
  {
   "cell_type": "code",
   "execution_count": 23,
   "id": "08f90c1b",
   "metadata": {},
   "outputs": [
    {
     "data": {
      "text/plain": [
       "array(['sepal_length', '5.1', '4.9', '4.7', '4.6', '5.0', '5.4', '4.6',\n",
       "       '5.0', '4.4', '4.9', '5.4', '4.8', '4.8', '4.3', '5.8', '5.7',\n",
       "       '5.4', '5.1', '5.7', '5.1', '5.4', '5.1', '4.6', '5.1', '4.8',\n",
       "       '5.0', '5.0', '5.2', '5.2', '4.7', '4.8', '5.4', '5.2', '5.5',\n",
       "       '4.9', '5.0', '5.5', '4.9', '4.4', '5.1', '5.0', '4.5', '4.4',\n",
       "       '5.0', '5.1', '4.8', '5.1', '4.6', '5.3', '5.0', '7.0', '6.4',\n",
       "       '6.9', '5.5', '6.5', '5.7', '6.3', '4.9', '6.6', '5.2', '5.0',\n",
       "       '5.9', '6.0', '6.1', '5.6', '6.7', '5.6', '5.8', '6.2', '5.6',\n",
       "       '5.9', '6.1', '6.3', '6.1', '6.4', '6.6', '6.8', '6.7', '6.0',\n",
       "       '5.7', '5.5', '5.5', '5.8', '6.0', '5.4', '6.0', '6.7', '6.3',\n",
       "       '5.6', '5.5', '5.5', '6.1', '5.8', '5.0', '5.6', '5.7', '5.7',\n",
       "       '6.2', '5.1', '5.7', '6.3', '5.8', '7.1', '6.3', '6.5', '7.6',\n",
       "       '4.9', '7.3', '6.7', '7.2', '6.5', '6.4', '6.8', '5.7', '5.8',\n",
       "       '6.4', '6.5', '7.7', '7.7', '6.0', '6.9', '5.6', '7.7', '6.3',\n",
       "       '6.7', '7.2', '6.2', '6.1', '6.4', '7.2', '7.4', '7.9', '6.4',\n",
       "       '6.3', '6.1', '7.7', '6.3', '6.4', '6.0', '6.9', '6.7', '6.9',\n",
       "       '5.8', '6.8', '6.7', '6.7', '6.3', '6.5', '6.2', '5.9'],\n",
       "      dtype='<U12')"
      ]
     },
     "execution_count": 23,
     "metadata": {},
     "output_type": "execute_result"
    }
   ],
   "source": [
    "data_arr[:, 0]"
   ]
  },
  {
   "cell_type": "code",
   "execution_count": 24,
   "id": "aa883264",
   "metadata": {},
   "outputs": [
    {
     "data": {
      "text/plain": [
       "array([['6.3', '3.3', '6.0', '2.5', 'virginica'],\n",
       "       ['5.8', '2.7', '5.1', '1.9', 'virginica'],\n",
       "       ['7.1', '3.0', '5.9', '2.1', 'virginica'],\n",
       "       ['6.3', '2.9', '5.6', '1.8', 'virginica'],\n",
       "       ['6.5', '3.0', '5.8', '2.2', 'virginica'],\n",
       "       ['7.6', '3.0', '6.6', '2.1', 'virginica'],\n",
       "       ['4.9', '2.5', '4.5', '1.7', 'virginica'],\n",
       "       ['7.3', '2.9', '6.3', '1.8', 'virginica'],\n",
       "       ['6.7', '2.5', '5.8', '1.8', 'virginica'],\n",
       "       ['7.2', '3.6', '6.1', '2.5', 'virginica'],\n",
       "       ['6.5', '3.2', '5.1', '2.0', 'virginica'],\n",
       "       ['6.4', '2.7', '5.3', '1.9', 'virginica'],\n",
       "       ['6.8', '3.0', '5.5', '2.1', 'virginica'],\n",
       "       ['5.7', '2.5', '5.0', '2.0', 'virginica'],\n",
       "       ['5.8', '2.8', '5.1', '2.4', 'virginica'],\n",
       "       ['6.4', '3.2', '5.3', '2.3', 'virginica'],\n",
       "       ['6.5', '3.0', '5.5', '1.8', 'virginica'],\n",
       "       ['7.7', '3.8', '6.7', '2.2', 'virginica'],\n",
       "       ['7.7', '2.6', '6.9', '2.3', 'virginica'],\n",
       "       ['6.0', '2.2', '5.0', '1.5', 'virginica'],\n",
       "       ['6.9', '3.2', '5.7', '2.3', 'virginica'],\n",
       "       ['5.6', '2.8', '4.9', '2.0', 'virginica'],\n",
       "       ['7.7', '2.8', '6.7', '2.0', 'virginica'],\n",
       "       ['6.3', '2.7', '4.9', '1.8', 'virginica'],\n",
       "       ['6.7', '3.3', '5.7', '2.1', 'virginica'],\n",
       "       ['7.2', '3.2', '6.0', '1.8', 'virginica'],\n",
       "       ['6.2', '2.8', '4.8', '1.8', 'virginica'],\n",
       "       ['6.1', '3.0', '4.9', '1.8', 'virginica'],\n",
       "       ['6.4', '2.8', '5.6', '2.1', 'virginica'],\n",
       "       ['7.2', '3.0', '5.8', '1.6', 'virginica'],\n",
       "       ['7.4', '2.8', '6.1', '1.9', 'virginica'],\n",
       "       ['7.9', '3.8', '6.4', '2.0', 'virginica'],\n",
       "       ['6.4', '2.8', '5.6', '2.2', 'virginica'],\n",
       "       ['6.3', '2.8', '5.1', '1.5', 'virginica'],\n",
       "       ['6.1', '2.6', '5.6', '1.4', 'virginica'],\n",
       "       ['7.7', '3.0', '6.1', '2.3', 'virginica'],\n",
       "       ['6.3', '3.4', '5.6', '2.4', 'virginica'],\n",
       "       ['6.4', '3.1', '5.5', '1.8', 'virginica'],\n",
       "       ['6.0', '3.0', '4.8', '1.8', 'virginica'],\n",
       "       ['6.9', '3.1', '5.4', '2.1', 'virginica'],\n",
       "       ['6.7', '3.1', '5.6', '2.4', 'virginica'],\n",
       "       ['6.9', '3.1', '5.1', '2.3', 'virginica'],\n",
       "       ['5.8', '2.7', '5.1', '1.9', 'virginica'],\n",
       "       ['6.8', '3.2', '5.9', '2.3', 'virginica'],\n",
       "       ['6.7', '3.3', '5.7', '2.5', 'virginica'],\n",
       "       ['6.7', '3.0', '5.2', '2.3', 'virginica'],\n",
       "       ['6.3', '2.5', '5.0', '1.9', 'virginica'],\n",
       "       ['6.5', '3.0', '5.2', '2.0', 'virginica'],\n",
       "       ['6.2', '3.4', '5.4', '2.3', 'virginica'],\n",
       "       ['5.9', '3.0', '5.1', '1.8', 'virginica']], dtype='<U12')"
      ]
     },
     "execution_count": 24,
     "metadata": {},
     "output_type": "execute_result"
    }
   ],
   "source": [
    "data_arr[data_arr[:, 4] == 'virginica']"
   ]
  },
  {
   "cell_type": "code",
   "execution_count": 25,
   "id": "f248947a",
   "metadata": {},
   "outputs": [
    {
     "data": {
      "text/plain": [
       "array([6.3, 5.8, 7.1, 6.3, 6.5, 7.6, 4.9, 7.3, 6.7, 7.2, 6.5, 6.4, 6.8,\n",
       "       5.7, 5.8, 6.4, 6.5, 7.7, 7.7, 6. , 6.9, 5.6, 7.7, 6.3, 6.7, 7.2,\n",
       "       6.2, 6.1, 6.4, 7.2, 7.4, 7.9, 6.4, 6.3, 6.1, 7.7, 6.3, 6.4, 6. ,\n",
       "       6.9, 6.7, 6.9, 5.8, 6.8, 6.7, 6.7, 6.3, 6.5, 6.2, 5.9])"
      ]
     },
     "execution_count": 25,
     "metadata": {},
     "output_type": "execute_result"
    }
   ],
   "source": [
    "# first column of species virginica as a fraction number\n",
    "data_arr[data_arr[:, 4] == 'virginica'][:,0].astype(\"float\")"
   ]
  },
  {
   "cell_type": "code",
   "execution_count": 26,
   "id": "d6c11254",
   "metadata": {},
   "outputs": [
    {
     "data": {
      "text/plain": [
       "array([6.588, 2.974, 5.552, 2.026])"
      ]
     },
     "execution_count": 26,
     "metadata": {},
     "output_type": "execute_result"
    }
   ],
   "source": [
    "data_arr[data_arr[:, 4] == 'virginica'][:, 0:4].astype(\"float\").mean(axis=0)"
   ]
  },
  {
   "cell_type": "code",
   "execution_count": 27,
   "id": "cce20715",
   "metadata": {},
   "outputs": [
    {
     "data": {
      "text/plain": [
       "array([4.525, 3.875, 4.525, 4.15 , 4.375, 4.825, 3.4  , 4.575, 4.2  ,\n",
       "       4.85 , 4.2  , 4.075, 4.35 , 3.8  , 4.025, 4.3  , 4.2  , 5.1  ,\n",
       "       4.875, 3.675, 4.525, 3.825, 4.8  , 3.925, 4.45 , 4.55 , 3.9  ,\n",
       "       3.95 , 4.225, 4.4  , 4.55 , 5.025, 4.25 , 3.925, 3.925, 4.775,\n",
       "       4.425, 4.2  , 3.9  , 4.375, 4.45 , 4.35 , 3.875, 4.55 , 4.55 ,\n",
       "       4.3  , 3.925, 4.175, 4.325, 3.95 ])"
      ]
     },
     "execution_count": 27,
     "metadata": {},
     "output_type": "execute_result"
    }
   ],
   "source": [
    "data_arr[data_arr[:, 4] == 'virginica'][:, 0:4].astype(\"float\").mean(axis=1)"
   ]
  },
  {
   "cell_type": "markdown",
   "id": "1e57ff7a",
   "metadata": {},
   "source": [
    "All this can get very unreadable and confusing\n",
    "\n",
    "# Enter Pandas\n",
    "\n",
    "- open-source, and high performance\n",
    "- makes it easier to work with data structures and analysis tools \n",
    "- convenient for use with numpy centric applications\n",
    "- primarily uses Series and DataFrame"
   ]
  },
  {
   "cell_type": "code",
   "execution_count": 28,
   "id": "92a7c61e",
   "metadata": {},
   "outputs": [],
   "source": [
    "import pandas as pd"
   ]
  },
  {
   "cell_type": "markdown",
   "id": "aea74d81",
   "metadata": {},
   "source": [
    "## Series"
   ]
  },
  {
   "cell_type": "code",
   "execution_count": 48,
   "id": "6be92e82",
   "metadata": {},
   "outputs": [
    {
     "data": {
      "text/plain": [
       "0    1\n",
       "1    2\n",
       "2    3\n",
       "3    4\n",
       "4    5\n",
       "dtype: int64"
      ]
     },
     "execution_count": 48,
     "metadata": {},
     "output_type": "execute_result"
    }
   ],
   "source": [
    "data = pd.Series([1, 2, 3, 4, 5])\n",
    "data"
   ]
  },
  {
   "cell_type": "code",
   "execution_count": 49,
   "id": "920ce3b8",
   "metadata": {},
   "outputs": [
    {
     "data": {
      "text/plain": [
       "RangeIndex(start=0, stop=5, step=1)"
      ]
     },
     "execution_count": 49,
     "metadata": {},
     "output_type": "execute_result"
    }
   ],
   "source": [
    "data.index"
   ]
  },
  {
   "cell_type": "code",
   "execution_count": 50,
   "id": "2fe2712c",
   "metadata": {},
   "outputs": [
    {
     "data": {
      "text/plain": [
       "array([1, 2, 3, 4, 5])"
      ]
     },
     "execution_count": 50,
     "metadata": {},
     "output_type": "execute_result"
    }
   ],
   "source": [
    "data.values"
   ]
  },
  {
   "cell_type": "code",
   "execution_count": 51,
   "id": "7346dc5d",
   "metadata": {},
   "outputs": [
    {
     "data": {
      "text/plain": [
       "0    10\n",
       "1     2\n",
       "2     3\n",
       "3     4\n",
       "4     5\n",
       "dtype: int64"
      ]
     },
     "execution_count": 51,
     "metadata": {},
     "output_type": "execute_result"
    }
   ],
   "source": [
    "data[0] = 10\n",
    "data"
   ]
  },
  {
   "cell_type": "code",
   "execution_count": 52,
   "id": "e811bcbc",
   "metadata": {},
   "outputs": [
    {
     "data": {
      "text/plain": [
       "d    1\n",
       "c    2\n",
       "b    3\n",
       "a    4\n",
       "dtype: int64"
      ]
     },
     "execution_count": 52,
     "metadata": {},
     "output_type": "execute_result"
    }
   ],
   "source": [
    "data = pd.Series([1, 2, 3, 4], index=['d', 'c', 'b', 'a'])\n",
    "data"
   ]
  },
  {
   "cell_type": "code",
   "execution_count": 54,
   "id": "b46a116f",
   "metadata": {},
   "outputs": [
    {
     "data": {
      "text/plain": [
       "1"
      ]
     },
     "execution_count": 54,
     "metadata": {},
     "output_type": "execute_result"
    }
   ],
   "source": [
    "data['b']\n",
    "data[0]"
   ]
  },
  {
   "cell_type": "markdown",
   "id": "2b0190a7",
   "metadata": {},
   "source": [
    "## DataFrame\n",
    "- tabular, spreadsheet like ordered data\n",
    "- each column can be different data type\n",
    "- a column is basically a \"series\""
   ]
  },
  {
   "cell_type": "code",
   "execution_count": 35,
   "id": "4791bbf9",
   "metadata": {
    "scrolled": true
   },
   "outputs": [
    {
     "data": {
      "text/html": [
       "<div>\n",
       "<style scoped>\n",
       "    .dataframe tbody tr th:only-of-type {\n",
       "        vertical-align: middle;\n",
       "    }\n",
       "\n",
       "    .dataframe tbody tr th {\n",
       "        vertical-align: top;\n",
       "    }\n",
       "\n",
       "    .dataframe thead th {\n",
       "        text-align: right;\n",
       "    }\n",
       "</style>\n",
       "<table border=\"1\" class=\"dataframe\">\n",
       "  <thead>\n",
       "    <tr style=\"text-align: right;\">\n",
       "      <th></th>\n",
       "      <th>a</th>\n",
       "      <th>b</th>\n",
       "      <th>c</th>\n",
       "    </tr>\n",
       "  </thead>\n",
       "  <tbody>\n",
       "    <tr>\n",
       "      <th>firstq</th>\n",
       "      <td>0</td>\n",
       "      <td>1</td>\n",
       "      <td>2</td>\n",
       "    </tr>\n",
       "    <tr>\n",
       "      <th>secondq</th>\n",
       "      <td>3</td>\n",
       "      <td>4</td>\n",
       "      <td>5</td>\n",
       "    </tr>\n",
       "    <tr>\n",
       "      <th>thirdq</th>\n",
       "      <td>6</td>\n",
       "      <td>7</td>\n",
       "      <td>8</td>\n",
       "    </tr>\n",
       "    <tr>\n",
       "      <th>forthq</th>\n",
       "      <td>9</td>\n",
       "      <td>10</td>\n",
       "      <td>11</td>\n",
       "    </tr>\n",
       "  </tbody>\n",
       "</table>\n",
       "</div>"
      ],
      "text/plain": [
       "         a   b   c\n",
       "firstq   0   1   2\n",
       "secondq  3   4   5\n",
       "thirdq   6   7   8\n",
       "forthq   9  10  11"
      ]
     },
     "execution_count": 35,
     "metadata": {},
     "output_type": "execute_result"
    }
   ],
   "source": [
    "# example data frame\n",
    "dummy1 = pd.DataFrame(np.arange(12).reshape((4, 3)),\n",
    "                   columns=['a', 'b', 'c'],\n",
    "                   index=['firstq', 'secondq', 'thirdq', 'forthq'])\n",
    "dummy1"
   ]
  },
  {
   "cell_type": "code",
   "execution_count": 36,
   "id": "36042359",
   "metadata": {},
   "outputs": [
    {
     "data": {
      "text/html": [
       "<div>\n",
       "<style scoped>\n",
       "    .dataframe tbody tr th:only-of-type {\n",
       "        vertical-align: middle;\n",
       "    }\n",
       "\n",
       "    .dataframe tbody tr th {\n",
       "        vertical-align: top;\n",
       "    }\n",
       "\n",
       "    .dataframe thead th {\n",
       "        text-align: right;\n",
       "    }\n",
       "</style>\n",
       "<table border=\"1\" class=\"dataframe\">\n",
       "  <thead>\n",
       "    <tr style=\"text-align: right;\">\n",
       "      <th></th>\n",
       "      <th>b</th>\n",
       "      <th>c</th>\n",
       "      <th>d</th>\n",
       "    </tr>\n",
       "  </thead>\n",
       "  <tbody>\n",
       "    <tr>\n",
       "      <th>firstq</th>\n",
       "      <td>0</td>\n",
       "      <td>1</td>\n",
       "      <td>2</td>\n",
       "    </tr>\n",
       "    <tr>\n",
       "      <th>secondq</th>\n",
       "      <td>3</td>\n",
       "      <td>4</td>\n",
       "      <td>5</td>\n",
       "    </tr>\n",
       "    <tr>\n",
       "      <th>thirdq</th>\n",
       "      <td>6</td>\n",
       "      <td>7</td>\n",
       "      <td>8</td>\n",
       "    </tr>\n",
       "  </tbody>\n",
       "</table>\n",
       "</div>"
      ],
      "text/plain": [
       "         b  c  d\n",
       "firstq   0  1  2\n",
       "secondq  3  4  5\n",
       "thirdq   6  7  8"
      ]
     },
     "execution_count": 36,
     "metadata": {},
     "output_type": "execute_result"
    }
   ],
   "source": [
    "dummy2 = pd.DataFrame(np.arange(9).reshape((3, 3)),\n",
    "                   columns=['b', 'c', 'd'],\n",
    "                   index=['firstq', 'secondq', 'thirdq'])\n",
    "dummy2"
   ]
  },
  {
   "cell_type": "code",
   "execution_count": 37,
   "id": "9aa8645d",
   "metadata": {},
   "outputs": [
    {
     "data": {
      "text/html": [
       "<div>\n",
       "<style scoped>\n",
       "    .dataframe tbody tr th:only-of-type {\n",
       "        vertical-align: middle;\n",
       "    }\n",
       "\n",
       "    .dataframe tbody tr th {\n",
       "        vertical-align: top;\n",
       "    }\n",
       "\n",
       "    .dataframe thead th {\n",
       "        text-align: right;\n",
       "    }\n",
       "</style>\n",
       "<table border=\"1\" class=\"dataframe\">\n",
       "  <thead>\n",
       "    <tr style=\"text-align: right;\">\n",
       "      <th></th>\n",
       "      <th>a</th>\n",
       "      <th>b</th>\n",
       "      <th>c</th>\n",
       "      <th>d</th>\n",
       "    </tr>\n",
       "  </thead>\n",
       "  <tbody>\n",
       "    <tr>\n",
       "      <th>firstq</th>\n",
       "      <td>NaN</td>\n",
       "      <td>1.0</td>\n",
       "      <td>3.0</td>\n",
       "      <td>NaN</td>\n",
       "    </tr>\n",
       "    <tr>\n",
       "      <th>forthq</th>\n",
       "      <td>NaN</td>\n",
       "      <td>NaN</td>\n",
       "      <td>NaN</td>\n",
       "      <td>NaN</td>\n",
       "    </tr>\n",
       "    <tr>\n",
       "      <th>secondq</th>\n",
       "      <td>NaN</td>\n",
       "      <td>7.0</td>\n",
       "      <td>9.0</td>\n",
       "      <td>NaN</td>\n",
       "    </tr>\n",
       "    <tr>\n",
       "      <th>thirdq</th>\n",
       "      <td>NaN</td>\n",
       "      <td>13.0</td>\n",
       "      <td>15.0</td>\n",
       "      <td>NaN</td>\n",
       "    </tr>\n",
       "  </tbody>\n",
       "</table>\n",
       "</div>"
      ],
      "text/plain": [
       "          a     b     c   d\n",
       "firstq  NaN   1.0   3.0 NaN\n",
       "forthq  NaN   NaN   NaN NaN\n",
       "secondq NaN   7.0   9.0 NaN\n",
       "thirdq  NaN  13.0  15.0 NaN"
      ]
     },
     "execution_count": 37,
     "metadata": {},
     "output_type": "execute_result"
    }
   ],
   "source": [
    "dummy = dummy1 + dummy2\n",
    "dummy"
   ]
  },
  {
   "cell_type": "code",
   "execution_count": 38,
   "id": "f0f010ac",
   "metadata": {},
   "outputs": [
    {
     "data": {
      "text/html": [
       "<div>\n",
       "<style scoped>\n",
       "    .dataframe tbody tr th:only-of-type {\n",
       "        vertical-align: middle;\n",
       "    }\n",
       "\n",
       "    .dataframe tbody tr th {\n",
       "        vertical-align: top;\n",
       "    }\n",
       "\n",
       "    .dataframe thead th {\n",
       "        text-align: right;\n",
       "    }\n",
       "</style>\n",
       "<table border=\"1\" class=\"dataframe\">\n",
       "  <thead>\n",
       "    <tr style=\"text-align: right;\">\n",
       "      <th></th>\n",
       "      <th>sepal_length</th>\n",
       "      <th>sepal_width</th>\n",
       "      <th>petal_length</th>\n",
       "      <th>petal_width</th>\n",
       "      <th>species</th>\n",
       "    </tr>\n",
       "  </thead>\n",
       "  <tbody>\n",
       "    <tr>\n",
       "      <th>0</th>\n",
       "      <td>5.1</td>\n",
       "      <td>3.5</td>\n",
       "      <td>1.4</td>\n",
       "      <td>0.2</td>\n",
       "      <td>setosa</td>\n",
       "    </tr>\n",
       "    <tr>\n",
       "      <th>1</th>\n",
       "      <td>4.9</td>\n",
       "      <td>3.0</td>\n",
       "      <td>1.4</td>\n",
       "      <td>0.2</td>\n",
       "      <td>setosa</td>\n",
       "    </tr>\n",
       "    <tr>\n",
       "      <th>2</th>\n",
       "      <td>4.7</td>\n",
       "      <td>3.2</td>\n",
       "      <td>1.3</td>\n",
       "      <td>0.2</td>\n",
       "      <td>setosa</td>\n",
       "    </tr>\n",
       "    <tr>\n",
       "      <th>3</th>\n",
       "      <td>4.6</td>\n",
       "      <td>3.1</td>\n",
       "      <td>1.5</td>\n",
       "      <td>0.2</td>\n",
       "      <td>setosa</td>\n",
       "    </tr>\n",
       "    <tr>\n",
       "      <th>4</th>\n",
       "      <td>5.0</td>\n",
       "      <td>3.6</td>\n",
       "      <td>1.4</td>\n",
       "      <td>0.2</td>\n",
       "      <td>setosa</td>\n",
       "    </tr>\n",
       "    <tr>\n",
       "      <th>...</th>\n",
       "      <td>...</td>\n",
       "      <td>...</td>\n",
       "      <td>...</td>\n",
       "      <td>...</td>\n",
       "      <td>...</td>\n",
       "    </tr>\n",
       "    <tr>\n",
       "      <th>145</th>\n",
       "      <td>6.7</td>\n",
       "      <td>3.0</td>\n",
       "      <td>5.2</td>\n",
       "      <td>2.3</td>\n",
       "      <td>virginica</td>\n",
       "    </tr>\n",
       "    <tr>\n",
       "      <th>146</th>\n",
       "      <td>6.3</td>\n",
       "      <td>2.5</td>\n",
       "      <td>5.0</td>\n",
       "      <td>1.9</td>\n",
       "      <td>virginica</td>\n",
       "    </tr>\n",
       "    <tr>\n",
       "      <th>147</th>\n",
       "      <td>6.5</td>\n",
       "      <td>3.0</td>\n",
       "      <td>5.2</td>\n",
       "      <td>2.0</td>\n",
       "      <td>virginica</td>\n",
       "    </tr>\n",
       "    <tr>\n",
       "      <th>148</th>\n",
       "      <td>6.2</td>\n",
       "      <td>3.4</td>\n",
       "      <td>5.4</td>\n",
       "      <td>2.3</td>\n",
       "      <td>virginica</td>\n",
       "    </tr>\n",
       "    <tr>\n",
       "      <th>149</th>\n",
       "      <td>5.9</td>\n",
       "      <td>3.0</td>\n",
       "      <td>5.1</td>\n",
       "      <td>1.8</td>\n",
       "      <td>virginica</td>\n",
       "    </tr>\n",
       "  </tbody>\n",
       "</table>\n",
       "<p>150 rows × 5 columns</p>\n",
       "</div>"
      ],
      "text/plain": [
       "     sepal_length  sepal_width  petal_length  petal_width    species\n",
       "0             5.1          3.5           1.4          0.2     setosa\n",
       "1             4.9          3.0           1.4          0.2     setosa\n",
       "2             4.7          3.2           1.3          0.2     setosa\n",
       "3             4.6          3.1           1.5          0.2     setosa\n",
       "4             5.0          3.6           1.4          0.2     setosa\n",
       "..            ...          ...           ...          ...        ...\n",
       "145           6.7          3.0           5.2          2.3  virginica\n",
       "146           6.3          2.5           5.0          1.9  virginica\n",
       "147           6.5          3.0           5.2          2.0  virginica\n",
       "148           6.2          3.4           5.4          2.3  virginica\n",
       "149           5.9          3.0           5.1          1.8  virginica\n",
       "\n",
       "[150 rows x 5 columns]"
      ]
     },
     "execution_count": 38,
     "metadata": {},
     "output_type": "execute_result"
    }
   ],
   "source": [
    "data = pd.read_csv('iris.csv')\n",
    "data"
   ]
  },
  {
   "cell_type": "code",
   "execution_count": 39,
   "id": "110ef8da",
   "metadata": {},
   "outputs": [
    {
     "data": {
      "text/html": [
       "<div>\n",
       "<style scoped>\n",
       "    .dataframe tbody tr th:only-of-type {\n",
       "        vertical-align: middle;\n",
       "    }\n",
       "\n",
       "    .dataframe tbody tr th {\n",
       "        vertical-align: top;\n",
       "    }\n",
       "\n",
       "    .dataframe thead th {\n",
       "        text-align: right;\n",
       "    }\n",
       "</style>\n",
       "<table border=\"1\" class=\"dataframe\">\n",
       "  <thead>\n",
       "    <tr style=\"text-align: right;\">\n",
       "      <th></th>\n",
       "      <th>sepal_length</th>\n",
       "      <th>sepal_width</th>\n",
       "      <th>petal_length</th>\n",
       "      <th>petal_width</th>\n",
       "    </tr>\n",
       "    <tr>\n",
       "      <th>species</th>\n",
       "      <th></th>\n",
       "      <th></th>\n",
       "      <th></th>\n",
       "      <th></th>\n",
       "    </tr>\n",
       "  </thead>\n",
       "  <tbody>\n",
       "    <tr>\n",
       "      <th>setosa</th>\n",
       "      <td>5.8</td>\n",
       "      <td>4.4</td>\n",
       "      <td>1.9</td>\n",
       "      <td>0.6</td>\n",
       "    </tr>\n",
       "    <tr>\n",
       "      <th>versicolor</th>\n",
       "      <td>7.0</td>\n",
       "      <td>3.4</td>\n",
       "      <td>5.1</td>\n",
       "      <td>1.8</td>\n",
       "    </tr>\n",
       "    <tr>\n",
       "      <th>virginica</th>\n",
       "      <td>7.9</td>\n",
       "      <td>3.8</td>\n",
       "      <td>6.9</td>\n",
       "      <td>2.5</td>\n",
       "    </tr>\n",
       "  </tbody>\n",
       "</table>\n",
       "</div>"
      ],
      "text/plain": [
       "            sepal_length  sepal_width  petal_length  petal_width\n",
       "species                                                         \n",
       "setosa               5.8          4.4           1.9          0.6\n",
       "versicolor           7.0          3.4           5.1          1.8\n",
       "virginica            7.9          3.8           6.9          2.5"
      ]
     },
     "execution_count": 39,
     "metadata": {},
     "output_type": "execute_result"
    }
   ],
   "source": [
    "data.groupby('species').max()"
   ]
  },
  {
   "cell_type": "code",
   "execution_count": 40,
   "id": "3ed4a793",
   "metadata": {},
   "outputs": [
    {
     "data": {
      "text/html": [
       "<div>\n",
       "<style scoped>\n",
       "    .dataframe tbody tr th:only-of-type {\n",
       "        vertical-align: middle;\n",
       "    }\n",
       "\n",
       "    .dataframe tbody tr th {\n",
       "        vertical-align: top;\n",
       "    }\n",
       "\n",
       "    .dataframe thead th {\n",
       "        text-align: right;\n",
       "    }\n",
       "</style>\n",
       "<table border=\"1\" class=\"dataframe\">\n",
       "  <thead>\n",
       "    <tr style=\"text-align: right;\">\n",
       "      <th></th>\n",
       "      <th>sepal_length</th>\n",
       "      <th>sepal_width</th>\n",
       "      <th>petal_length</th>\n",
       "      <th>petal_width</th>\n",
       "    </tr>\n",
       "    <tr>\n",
       "      <th>species</th>\n",
       "      <th></th>\n",
       "      <th></th>\n",
       "      <th></th>\n",
       "      <th></th>\n",
       "    </tr>\n",
       "  </thead>\n",
       "  <tbody>\n",
       "    <tr>\n",
       "      <th>setosa</th>\n",
       "      <td>4.3</td>\n",
       "      <td>2.3</td>\n",
       "      <td>1.0</td>\n",
       "      <td>0.1</td>\n",
       "    </tr>\n",
       "    <tr>\n",
       "      <th>versicolor</th>\n",
       "      <td>4.9</td>\n",
       "      <td>2.0</td>\n",
       "      <td>3.0</td>\n",
       "      <td>1.0</td>\n",
       "    </tr>\n",
       "    <tr>\n",
       "      <th>virginica</th>\n",
       "      <td>4.9</td>\n",
       "      <td>2.2</td>\n",
       "      <td>4.5</td>\n",
       "      <td>1.4</td>\n",
       "    </tr>\n",
       "  </tbody>\n",
       "</table>\n",
       "</div>"
      ],
      "text/plain": [
       "            sepal_length  sepal_width  petal_length  petal_width\n",
       "species                                                         \n",
       "setosa               4.3          2.3           1.0          0.1\n",
       "versicolor           4.9          2.0           3.0          1.0\n",
       "virginica            4.9          2.2           4.5          1.4"
      ]
     },
     "execution_count": 40,
     "metadata": {},
     "output_type": "execute_result"
    }
   ],
   "source": [
    "data.groupby('species').min()"
   ]
  },
  {
   "cell_type": "code",
   "execution_count": 41,
   "id": "862f7cc6",
   "metadata": {},
   "outputs": [
    {
     "data": {
      "text/plain": [
       "7.9"
      ]
     },
     "execution_count": 41,
     "metadata": {},
     "output_type": "execute_result"
    }
   ],
   "source": [
    "data['sepal_length'].max()"
   ]
  },
  {
   "cell_type": "code",
   "execution_count": 42,
   "id": "4e3284e5",
   "metadata": {},
   "outputs": [
    {
     "data": {
      "text/plain": [
       "sepal_length    0\n",
       "sepal_width     0\n",
       "petal_length    0\n",
       "petal_width     0\n",
       "species         0\n",
       "dtype: int64"
      ]
     },
     "execution_count": 42,
     "metadata": {},
     "output_type": "execute_result"
    }
   ],
   "source": [
    "data.isna().sum()"
   ]
  },
  {
   "cell_type": "code",
   "execution_count": 56,
   "id": "d3174f0f",
   "metadata": {},
   "outputs": [
    {
     "name": "stdout",
     "output_type": "stream",
     "text": [
      "          a     b     c   d\n",
      "firstq  NaN   1.0   3.0 NaN\n",
      "forthq  NaN   NaN   NaN NaN\n",
      "secondq NaN   7.0   9.0 NaN\n",
      "thirdq  NaN  13.0  15.0 NaN\n"
     ]
    },
    {
     "data": {
      "text/plain": [
       "a    4\n",
       "b    1\n",
       "c    1\n",
       "d    4\n",
       "dtype: int64"
      ]
     },
     "execution_count": 56,
     "metadata": {},
     "output_type": "execute_result"
    }
   ],
   "source": [
    "print(dummy)\n",
    "dummy.isna().sum()"
   ]
  },
  {
   "cell_type": "code",
   "execution_count": 44,
   "id": "9b41e9ba",
   "metadata": {},
   "outputs": [
    {
     "data": {
      "text/html": [
       "<div>\n",
       "<style scoped>\n",
       "    .dataframe tbody tr th:only-of-type {\n",
       "        vertical-align: middle;\n",
       "    }\n",
       "\n",
       "    .dataframe tbody tr th {\n",
       "        vertical-align: top;\n",
       "    }\n",
       "\n",
       "    .dataframe thead th {\n",
       "        text-align: right;\n",
       "    }\n",
       "</style>\n",
       "<table border=\"1\" class=\"dataframe\">\n",
       "  <thead>\n",
       "    <tr style=\"text-align: right;\">\n",
       "      <th></th>\n",
       "      <th>a</th>\n",
       "      <th>b</th>\n",
       "      <th>c</th>\n",
       "      <th>d</th>\n",
       "    </tr>\n",
       "  </thead>\n",
       "  <tbody>\n",
       "    <tr>\n",
       "      <th>firstq</th>\n",
       "      <td>0.0</td>\n",
       "      <td>1.0</td>\n",
       "      <td>3.0</td>\n",
       "      <td>0.0</td>\n",
       "    </tr>\n",
       "    <tr>\n",
       "      <th>forthq</th>\n",
       "      <td>0.0</td>\n",
       "      <td>0.0</td>\n",
       "      <td>0.0</td>\n",
       "      <td>0.0</td>\n",
       "    </tr>\n",
       "    <tr>\n",
       "      <th>secondq</th>\n",
       "      <td>0.0</td>\n",
       "      <td>7.0</td>\n",
       "      <td>9.0</td>\n",
       "      <td>0.0</td>\n",
       "    </tr>\n",
       "    <tr>\n",
       "      <th>thirdq</th>\n",
       "      <td>0.0</td>\n",
       "      <td>13.0</td>\n",
       "      <td>15.0</td>\n",
       "      <td>0.0</td>\n",
       "    </tr>\n",
       "  </tbody>\n",
       "</table>\n",
       "</div>"
      ],
      "text/plain": [
       "           a     b     c    d\n",
       "firstq   0.0   1.0   3.0  0.0\n",
       "forthq   0.0   0.0   0.0  0.0\n",
       "secondq  0.0   7.0   9.0  0.0\n",
       "thirdq   0.0  13.0  15.0  0.0"
      ]
     },
     "execution_count": 44,
     "metadata": {},
     "output_type": "execute_result"
    }
   ],
   "source": [
    "dummy.fillna(0)"
   ]
  },
  {
   "cell_type": "code",
   "execution_count": 45,
   "id": "0b20130a",
   "metadata": {},
   "outputs": [
    {
     "data": {
      "text/html": [
       "<div>\n",
       "<style scoped>\n",
       "    .dataframe tbody tr th:only-of-type {\n",
       "        vertical-align: middle;\n",
       "    }\n",
       "\n",
       "    .dataframe tbody tr th {\n",
       "        vertical-align: top;\n",
       "    }\n",
       "\n",
       "    .dataframe thead th {\n",
       "        text-align: right;\n",
       "    }\n",
       "</style>\n",
       "<table border=\"1\" class=\"dataframe\">\n",
       "  <thead>\n",
       "    <tr style=\"text-align: right;\">\n",
       "      <th></th>\n",
       "      <th>a</th>\n",
       "      <th>b</th>\n",
       "      <th>c</th>\n",
       "      <th>d</th>\n",
       "    </tr>\n",
       "  </thead>\n",
       "  <tbody>\n",
       "    <tr>\n",
       "      <th>firstq</th>\n",
       "      <td>0.0</td>\n",
       "      <td>1.0</td>\n",
       "      <td>3.0</td>\n",
       "      <td>4.0</td>\n",
       "    </tr>\n",
       "    <tr>\n",
       "      <th>forthq</th>\n",
       "      <td>0.0</td>\n",
       "      <td>1.0</td>\n",
       "      <td>2.0</td>\n",
       "      <td>4.0</td>\n",
       "    </tr>\n",
       "    <tr>\n",
       "      <th>secondq</th>\n",
       "      <td>0.0</td>\n",
       "      <td>7.0</td>\n",
       "      <td>9.0</td>\n",
       "      <td>4.0</td>\n",
       "    </tr>\n",
       "    <tr>\n",
       "      <th>thirdq</th>\n",
       "      <td>0.0</td>\n",
       "      <td>13.0</td>\n",
       "      <td>15.0</td>\n",
       "      <td>4.0</td>\n",
       "    </tr>\n",
       "  </tbody>\n",
       "</table>\n",
       "</div>"
      ],
      "text/plain": [
       "           a     b     c    d\n",
       "firstq   0.0   1.0   3.0  4.0\n",
       "forthq   0.0   1.0   2.0  4.0\n",
       "secondq  0.0   7.0   9.0  4.0\n",
       "thirdq   0.0  13.0  15.0  4.0"
      ]
     },
     "execution_count": 45,
     "metadata": {},
     "output_type": "execute_result"
    }
   ],
   "source": [
    "dummy.fillna({'a' : 0, 'b' : 1, 'c' : 2, 'd' : 4})"
   ]
  },
  {
   "cell_type": "code",
   "execution_count": 46,
   "id": "ffde2694",
   "metadata": {},
   "outputs": [],
   "source": [
    "# learn to use the official reference https://pandas.pydata.org/docs/reference/api/pandas.DataFrame.fillna.html"
   ]
  },
  {
   "cell_type": "code",
   "execution_count": 47,
   "id": "5a644325",
   "metadata": {},
   "outputs": [
    {
     "data": {
      "text/plain": [
       "firstq      1.0\n",
       "secondq     7.0\n",
       "thirdq     13.0\n",
       "Name: b, dtype: float64"
      ]
     },
     "execution_count": 47,
     "metadata": {},
     "output_type": "execute_result"
    }
   ],
   "source": [
    "dummy['b'].dropna(axis=0)"
   ]
  }
 ],
 "metadata": {
  "kernelspec": {
   "display_name": "Python 3 (ipykernel)",
   "language": "python",
   "name": "python3"
  },
  "language_info": {
   "codemirror_mode": {
    "name": "ipython",
    "version": 3
   },
   "file_extension": ".py",
   "mimetype": "text/x-python",
   "name": "python",
   "nbconvert_exporter": "python",
   "pygments_lexer": "ipython3",
   "version": "3.8.16"
  }
 },
 "nbformat": 4,
 "nbformat_minor": 5
}
