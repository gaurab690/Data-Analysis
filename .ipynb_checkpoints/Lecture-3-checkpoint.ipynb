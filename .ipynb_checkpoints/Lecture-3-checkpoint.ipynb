{
 "cells": [
  {
   "cell_type": "markdown",
   "id": "7876c783",
   "metadata": {},
   "source": [
    "# OUTLINE\n",
    "- Lists\n",
    "- Tuples\n",
    "- Sets\n",
    "- Dictionaries"
   ]
  },
  {
   "cell_type": "markdown",
   "id": "d9353aa0",
   "metadata": {},
   "source": [
    "## Lists\n",
    "- ordered collection of items accessible by index\n",
    "- can be modified, updated, sliced, and homogeneous, heterogeneous"
   ]
  },
  {
   "cell_type": "code",
   "execution_count": 2,
   "id": "938d7ffc",
   "metadata": {},
   "outputs": [],
   "source": [
    "# creating an empty list\n",
    "nums = []\n",
    "nums = list()"
   ]
  },
  {
   "cell_type": "code",
   "execution_count": 3,
   "id": "92e8aa61",
   "metadata": {},
   "outputs": [],
   "source": [
    "# homogeneous list of integers\n",
    "nums = [1, 2, 3, 4, 5]"
   ]
  },
  {
   "cell_type": "code",
   "execution_count": 4,
   "id": "55813c3a",
   "metadata": {},
   "outputs": [],
   "source": [
    "# heterogeneous list of integers and strings\n",
    "nums = [1, 2, \"Three\", 4, \"Five\"]"
   ]
  },
  {
   "cell_type": "code",
   "execution_count": 5,
   "id": "a4fada65",
   "metadata": {},
   "outputs": [],
   "source": [
    "# list of lists\n",
    "nums = [ [1, 3, 5, 7, 9], [2, 4, 6, 8, 10] ]"
   ]
  },
  {
   "cell_type": "code",
   "execution_count": 9,
   "id": "5ef90214",
   "metadata": {},
   "outputs": [
    {
     "name": "stdout",
     "output_type": "stream",
     "text": [
      "nums[0] is  11\n",
      "nums[1:3] is  [12, 13]\n",
      "nums[-3:-1] is [13, 14]\n"
     ]
    }
   ],
   "source": [
    "nums = [11, 12, 13, 14, 15]\n",
    "print(\"nums[0] is \", nums[0])\n",
    "print(\"nums[1:3] is \", nums[1:3])\n",
    "print(\"nums[-3:-1] is\", nums[-3:-1])"
   ]
  },
  {
   "cell_type": "code",
   "execution_count": 28,
   "id": "cb741030",
   "metadata": {},
   "outputs": [
    {
     "data": {
      "text/plain": [
       "[11, 12, 13, 14, 15, 16]"
      ]
     },
     "execution_count": 28,
     "metadata": {},
     "output_type": "execute_result"
    }
   ],
   "source": [
    "# we can append to a list\n",
    "nums = [11, 12, 13, 14, 15]\n",
    "nums.append(16)\n",
    "nums"
   ]
  },
  {
   "cell_type": "code",
   "execution_count": 10,
   "id": "1f799bc2",
   "metadata": {},
   "outputs": [
    {
     "name": "stdout",
     "output_type": "stream",
     "text": [
      "[1, 2, 3, 4, 5, 6, 7, 8]\n"
     ]
    }
   ],
   "source": [
    "# we can extend a list with another\n",
    "nums = [1, 2, 3, 4, 5]\n",
    "nums.extend([6, 7, 8])\n",
    "print(nums)"
   ]
  },
  {
   "cell_type": "code",
   "execution_count": 13,
   "id": "55837854",
   "metadata": {},
   "outputs": [
    {
     "name": "stdout",
     "output_type": "stream",
     "text": [
      "[11, 12, 13, 0, 14, 15]\n"
     ]
    }
   ],
   "source": [
    "# we can insert an item into a list at a position\n",
    "nums = [11, 12, 13, 14, 15]\n",
    "nums.insert(3, 0)\n",
    "print(nums)"
   ]
  },
  {
   "cell_type": "code",
   "execution_count": 15,
   "id": "c3e69f73",
   "metadata": {},
   "outputs": [
    {
     "name": "stdout",
     "output_type": "stream",
     "text": [
      "[11, 12, 14, 15, 13]\n"
     ]
    }
   ],
   "source": [
    "# we can remove an item from a list\n",
    "nums = [11, 12, 13, 14, 15, 13]\n",
    "nums.remove(13)\n",
    "print(nums)"
   ]
  },
  {
   "cell_type": "code",
   "execution_count": 17,
   "id": "6d8d8a7e",
   "metadata": {},
   "outputs": [
    {
     "name": "stdout",
     "output_type": "stream",
     "text": [
      "[11, 12, 14, 15, 13] 13\n"
     ]
    }
   ],
   "source": [
    "# we can pop an item from a list\n",
    "nums = [11, 12, 13, 14, 15, 13]\n",
    "item = nums.pop(2)\n",
    "print(nums, item)"
   ]
  },
  {
   "cell_type": "code",
   "execution_count": 18,
   "id": "2feefcc3",
   "metadata": {},
   "outputs": [
    {
     "name": "stdout",
     "output_type": "stream",
     "text": [
      "[]\n"
     ]
    }
   ],
   "source": [
    "# we can clear a list\n",
    "nums = [11, 12, 13, 14, 15]\n",
    "nums.clear()\n",
    "print(nums)"
   ]
  },
  {
   "cell_type": "code",
   "execution_count": 20,
   "id": "d996483e",
   "metadata": {},
   "outputs": [
    {
     "name": "stdout",
     "output_type": "stream",
     "text": [
      "2\n"
     ]
    },
    {
     "ename": "ValueError",
     "evalue": "-2 is not in list",
     "output_type": "error",
     "traceback": [
      "\u001b[0;31m---------------------------------------------------------------------------\u001b[0m",
      "\u001b[0;31mValueError\u001b[0m                                Traceback (most recent call last)",
      "Cell \u001b[0;32mIn[20], line 4\u001b[0m\n\u001b[1;32m      2\u001b[0m nums \u001b[38;5;241m=\u001b[39m [\u001b[38;5;241m11\u001b[39m, \u001b[38;5;241m12\u001b[39m, \u001b[38;5;241m13\u001b[39m, \u001b[38;5;241m14\u001b[39m, \u001b[38;5;241m15\u001b[39m]\n\u001b[1;32m      3\u001b[0m \u001b[38;5;28mprint\u001b[39m(nums\u001b[38;5;241m.\u001b[39mindex(\u001b[38;5;241m13\u001b[39m))\n\u001b[0;32m----> 4\u001b[0m \u001b[38;5;28mprint\u001b[39m(\u001b[43mnums\u001b[49m\u001b[38;5;241;43m.\u001b[39;49m\u001b[43mindex\u001b[49m\u001b[43m(\u001b[49m\u001b[38;5;241;43m-\u001b[39;49m\u001b[38;5;241;43m2\u001b[39;49m\u001b[43m)\u001b[49m)\n",
      "\u001b[0;31mValueError\u001b[0m: -2 is not in list"
     ]
    }
   ],
   "source": [
    "# we can find an item in a list\n",
    "nums = [11, 12, 13, 14, 15]\n",
    "print(nums.index(13))\n",
    "print(nums.index(-2))"
   ]
  },
  {
   "cell_type": "code",
   "execution_count": 21,
   "id": "7d44c84f",
   "metadata": {},
   "outputs": [
    {
     "data": {
      "text/plain": [
       "2"
      ]
     },
     "execution_count": 21,
     "metadata": {},
     "output_type": "execute_result"
    }
   ],
   "source": [
    "nums = [11, 12, 13, 14, 14]\n",
    "nums.count(14)"
   ]
  },
  {
   "cell_type": "code",
   "execution_count": 23,
   "id": "7647078c",
   "metadata": {},
   "outputs": [
    {
     "data": {
      "text/plain": [
       "[11, 12, 13, 14, 15]"
      ]
     },
     "execution_count": 23,
     "metadata": {},
     "output_type": "execute_result"
    }
   ],
   "source": [
    "nums = [11, 13, 15, 12, 14]\n",
    "nums.sort()\n",
    "nums"
   ]
  },
  {
   "cell_type": "code",
   "execution_count": 24,
   "id": "7a619b3a",
   "metadata": {},
   "outputs": [
    {
     "data": {
      "text/plain": [
       "[15, 14, 13, 12, 11]"
      ]
     },
     "execution_count": 24,
     "metadata": {},
     "output_type": "execute_result"
    }
   ],
   "source": [
    "nums.reverse()\n",
    "nums"
   ]
  },
  {
   "cell_type": "code",
   "execution_count": 27,
   "id": "593a9b13",
   "metadata": {},
   "outputs": [
    {
     "name": "stdout",
     "output_type": "stream",
     "text": [
      "[15, 14, 13, 12, 11] [15, 14, 13, 12, 11]\n",
      "[15, 14, 22, 12, 11] [15, 14, 22, 12, 11]\n"
     ]
    }
   ],
   "source": [
    "nums2 = nums.copy()\n",
    "print(nums, nums2)\n",
    "nums3 = nums\n",
    "nums[2] = 22\n",
    "print(nums, nums3)"
   ]
  },
  {
   "cell_type": "markdown",
   "id": "51682dc4",
   "metadata": {},
   "source": [
    "## Tuples\n",
    "- like lists, but immutable (can't be modified or updated)\n",
    "- generally faster than lists so use when data doesn't change over time"
   ]
  },
  {
   "cell_type": "code",
   "execution_count": 32,
   "id": "86057a91",
   "metadata": {},
   "outputs": [
    {
     "name": "stdout",
     "output_type": "stream",
     "text": [
      "(11, 12, 13, 14, 15)\n",
      "(11, 'Twelve', 13)\n"
     ]
    }
   ],
   "source": [
    "# creating a tuple\n",
    "t = (11, 12, 13, 14, 15)\n",
    "print(t)\n",
    "t = (11, \"Twelve\", 13)\n",
    "print(t)"
   ]
  },
  {
   "cell_type": "markdown",
   "id": "7f5818e7",
   "metadata": {},
   "source": [
    "## Sets\n",
    "- unordered collection of items\n",
    "- no duplicates"
   ]
  },
  {
   "cell_type": "code",
   "execution_count": 37,
   "id": "7066584a",
   "metadata": {},
   "outputs": [
    {
     "name": "stdout",
     "output_type": "stream",
     "text": [
      "union:  {'parrots', 'sparrow', 'crow', 'dogs', 'cats'}\n",
      "intersection:  {'parrots'}\n",
      "difference:  {'dogs', 'cats'}\n",
      "symmetric difference:  {'dogs', 'sparrow', 'cats', 'crow'}\n"
     ]
    }
   ],
   "source": [
    "pets = {'cats', 'dogs', 'parrots'}\n",
    "birds = {'parrots', 'crow', 'sparrow'}\n",
    "print(\"union: \", pets.union(birds))\n",
    "print(\"intersection: \", pets.intersection(birds))\n",
    "print(\"difference: \", pets.difference(birds))\n",
    "print(\"symmetric difference: \", pets.symmetric_difference(birds))"
   ]
  },
  {
   "cell_type": "code",
   "execution_count": 39,
   "id": "2d8736db",
   "metadata": {},
   "outputs": [
    {
     "data": {
      "text/plain": [
       "{' ', 'd', 'e', 'f', 'h', 'i', 'l', 'n', 'o', 'r'}"
      ]
     },
     "execution_count": 39,
     "metadata": {},
     "output_type": "execute_result"
    }
   ],
   "source": [
    "message = set(\"hello old friend\")\n",
    "message"
   ]
  },
  {
   "cell_type": "code",
   "execution_count": 40,
   "id": "5663b8b5",
   "metadata": {},
   "outputs": [
    {
     "data": {
      "text/plain": [
       "{' ', 'Z', 'd', 'e', 'f', 'h', 'i', 'l', 'n', 'o', 'r'}"
      ]
     },
     "execution_count": 40,
     "metadata": {},
     "output_type": "execute_result"
    }
   ],
   "source": [
    "message.add('Z')\n",
    "message"
   ]
  },
  {
   "cell_type": "code",
   "execution_count": 43,
   "id": "235be752",
   "metadata": {},
   "outputs": [
    {
     "data": {
      "text/plain": [
       "{'Z', 'e', 'f', 'h', 'i', 'l', 'n', 'o', 'r'}"
      ]
     },
     "execution_count": 43,
     "metadata": {},
     "output_type": "execute_result"
    }
   ],
   "source": [
    "message.remove('d')\n",
    "message"
   ]
  },
  {
   "cell_type": "markdown",
   "id": "f870addf",
   "metadata": {},
   "source": [
    "## Dictionary\n",
    "- unordered collection of key-value pair\n",
    "    - keys must be unique and immutable\n",
    "    - values can be any type and are mutable\n",
    "- dictionaries can be very quick for searching as opposed to lists\n",
    "- for more on theory, you can consult \"data structures\""
   ]
  },
  {
   "cell_type": "code",
   "execution_count": 44,
   "id": "e9a59c6d",
   "metadata": {},
   "outputs": [
    {
     "data": {
      "text/plain": [
       "42"
      ]
     },
     "execution_count": 44,
     "metadata": {},
     "output_type": "execute_result"
    }
   ],
   "source": [
    "marks = { \"Suman\": 40, \"Aava\": 42, \"Sahil\": 42, \"Binita\": 40}\n",
    "marks[\"Sahil\"]"
   ]
  },
  {
   "cell_type": "code",
   "execution_count": 45,
   "id": "0115917f",
   "metadata": {},
   "outputs": [
    {
     "data": {
      "text/plain": [
       "44"
      ]
     },
     "execution_count": 45,
     "metadata": {},
     "output_type": "execute_result"
    }
   ],
   "source": [
    "marks[\"Binita\"] = 44\n",
    "marks[\"Binita\"]"
   ]
  },
  {
   "cell_type": "code",
   "execution_count": 46,
   "id": "d16a3b24",
   "metadata": {},
   "outputs": [
    {
     "name": "stdout",
     "output_type": "stream",
     "text": [
      "Suman 40\n",
      "Aava 42\n",
      "Sahil 42\n",
      "Binita 44\n"
     ]
    }
   ],
   "source": [
    "for key, value in marks.items():\n",
    "    print(key, value)"
   ]
  },
  {
   "cell_type": "code",
   "execution_count": 47,
   "id": "f3779866",
   "metadata": {},
   "outputs": [
    {
     "data": {
      "text/plain": [
       "4"
      ]
     },
     "execution_count": 47,
     "metadata": {},
     "output_type": "execute_result"
    }
   ],
   "source": [
    "len(marks)"
   ]
  },
  {
   "cell_type": "code",
   "execution_count": null,
   "id": "588b19f6",
   "metadata": {},
   "outputs": [],
   "source": [
    "sorted()"
   ]
  }
 ],
 "metadata": {
  "kernelspec": {
   "display_name": "Python 3 (ipykernel)",
   "language": "python",
   "name": "python3"
  },
  "language_info": {
   "codemirror_mode": {
    "name": "ipython",
    "version": 3
   },
   "file_extension": ".py",
   "mimetype": "text/x-python",
   "name": "python",
   "nbconvert_exporter": "python",
   "pygments_lexer": "ipython3",
   "version": "3.8.16"
  }
 },
 "nbformat": 4,
 "nbformat_minor": 5
}
