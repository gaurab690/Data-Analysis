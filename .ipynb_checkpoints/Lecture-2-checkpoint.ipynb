{
 "cells": [
  {
   "cell_type": "markdown",
   "id": "c94d7878",
   "metadata": {},
   "source": [
    "# What is Data?\n",
    "\n",
    "Information, facts or numbers. It can be:\n",
    "1. Quantitative\n",
    "    - measurable\n",
    "    - numbers or statistics\n",
    "    - answers how much? how many? how often?\n",
    "    - continuous (height, speed, time, wifi frequency)\n",
    "    - discreet data (number of students present, days in a week)\n",
    "2. Qualitative\n",
    "    - not measurable\n",
    "    - texts, pictures, audio, video\n",
    "    - answers how? and why?\n",
    "    - nominal data (categories: color of your eyes, nationality, marital status, gender)\n",
    "    - ordinal data (scale: level of satisfaction, education level, economic level)"
   ]
  },
  {
   "cell_type": "markdown",
   "id": "26f0c691",
   "metadata": {},
   "source": [
    "# Python\n",
    "- Object Oriented Interpreted Programming language\n",
    "- supports multiple programming paradigms\n",
    "- widely used by scientist and programmers\n",
    "- supported by many third party libraries\n",
    "- open source and free (caution: open source doesn't necessarily mean free)"
   ]
  },
  {
   "cell_type": "markdown",
   "id": "e7f1646e",
   "metadata": {},
   "source": [
    "# Why Python\n",
    "- Easy to use and love\n",
    "- large and active userbase \n",
    "- large set of available libraries that makes it a powerful tool for data manipulation\n",
    "- also https://survey.stackoverflow.co/2023/#worked-with-vs-want-to-work-with-language-worked-want-prof"
   ]
  },
  {
   "cell_type": "markdown",
   "id": "3ba2d269",
   "metadata": {},
   "source": [
    "# Essential Python Libraries\n",
    "- NumPy: short for numeric python, is the foundational package for scientific computing in Python.\n",
    "- Pandas: pandas provides rich data structures and functions designed to make working with structured data fast, easy and expressive.\n",
    "- Matplotlib: matplotlib is the most popular Python library for producing plots and other 2D data visualizations.\n",
    "- SciPy: SciPy is a collections of packages to provide python’s scientific computing capabilities.\n"
   ]
  },
  {
   "cell_type": "markdown",
   "id": "92c5eb0d",
   "metadata": {},
   "source": [
    "# Installing Python\n",
    "- Preferred for the course is via anaconda: https://www.anaconda.com/download\n",
    "- Comes with IDLE, Spyder, Jupyter Notebook, Jupyter Lab"
   ]
  },
  {
   "cell_type": "code",
   "execution_count": null,
   "id": "314fcab3",
   "metadata": {},
   "outputs": [],
   "source": [
    "# KEYWORDS\n",
    "## in lowercase only\n",
    "## False   await     else     import    pass\n",
    "## None    break     except   in        raise\n",
    "## True    class     finally  is        return\n",
    "## and     continue  for      lambda    try\n",
    "## as      def       from     nonlocal  while\n",
    "## assert  del       global   not       with\n",
    "## async   elif      if       or        yield"
   ]
  },
  {
   "cell_type": "code",
   "execution_count": 4,
   "id": "97f1b559",
   "metadata": {},
   "outputs": [
    {
     "name": "stdout",
     "output_type": "stream",
     "text": [
      "helloworld\n",
      "hello hello\n"
     ]
    }
   ],
   "source": [
    "# Indentation is important\n",
    "## use space, tab anything but keep it consistent \n",
    "def main():\n",
    "    print(\"helloworld\")\n",
    "    print(\"hello hello\")\n",
    "\n",
    "main()"
   ]
  },
  {
   "cell_type": "code",
   "execution_count": 2,
   "id": "393229f5",
   "metadata": {},
   "outputs": [
    {
     "name": "stdout",
     "output_type": "stream",
     "text": [
      "<class 'int'>\n",
      "<class 'float'>\n",
      "<class 'bool'>\n",
      "<class 'str'>\n"
     ]
    }
   ],
   "source": [
    "# variable declaration and printing\n",
    "my_integer = 3\n",
    "print( type(my_integer) )\n",
    "\n",
    "my_fraction = 3.5\n",
    "print( type(my_fraction) )   # type() returns the type of a variable \n",
    "\n",
    "my_boolean = False\n",
    "print( type(my_boolean) )\n",
    "\n",
    "my_string = \"just a sample string\"\n",
    "print( type(my_string))"
   ]
  },
  {
   "cell_type": "code",
   "execution_count": 1,
   "id": "4e918d34",
   "metadata": {},
   "outputs": [
    {
     "name": "stdout",
     "output_type": "stream",
     "text": [
      "7\n",
      "3\n",
      "2.5\n",
      "2\n",
      "10\n",
      "1\n"
     ]
    }
   ],
   "source": [
    "# operators in python\n",
    "print( 5 + 2 )\n",
    "print( 5 - 2 )\n",
    "print( 5 / 2 )\n",
    "print( 5 // 2)\n",
    "print( 5 * 2 )\n",
    "print( 5 % 2 )"
   ]
  },
  {
   "cell_type": "code",
   "execution_count": 17,
   "id": "c72ac812",
   "metadata": {},
   "outputs": [
    {
     "name": "stdout",
     "output_type": "stream",
     "text": [
      "False\n",
      "True\n",
      "False\n",
      "False\n",
      "True\n",
      "True\n"
     ]
    }
   ],
   "source": [
    "# relational/comparison operators in python\n",
    "print( 5 == 2 )\n",
    "print( 5 != 2 )\n",
    "print( 5 < 2 )\n",
    "print( 5 <= 2 )\n",
    "print( 5 > 2 )\n",
    "print( 5 >= 2 )"
   ]
  },
  {
   "cell_type": "code",
   "execution_count": 18,
   "id": "5c9be46e",
   "metadata": {},
   "outputs": [
    {
     "name": "stdout",
     "output_type": "stream",
     "text": [
      "False\n",
      "False\n",
      "True\n",
      "True\n"
     ]
    }
   ],
   "source": [
    "# logical operators\n",
    "print( True and False )\n",
    "print( False and False )\n",
    "print( False or True )\n",
    "print( True or True )"
   ]
  },
  {
   "cell_type": "code",
   "execution_count": 3,
   "id": "673d01c3",
   "metadata": {},
   "outputs": [
    {
     "name": "stdout",
     "output_type": "stream",
     "text": [
      "0\n",
      "1\n",
      "2\n",
      "3\n",
      "4\n",
      "5\n",
      "6\n",
      "7\n",
      "8\n",
      "9\n"
     ]
    }
   ],
   "source": [
    "# repetition\n",
    "## while loop\n",
    "i = 0\n",
    "while i < 10:\n",
    "    print(i)\n",
    "    i = i + 1"
   ]
  },
  {
   "cell_type": "code",
   "execution_count": 4,
   "id": "8c0a51da",
   "metadata": {},
   "outputs": [
    {
     "name": "stdout",
     "output_type": "stream",
     "text": [
      "0\n",
      "10\n",
      "20\n",
      "30\n",
      "40\n"
     ]
    }
   ],
   "source": [
    "# repetition\n",
    "# for...range loop\n",
    "for i in range(0, 50, 10):\n",
    "    print(i)"
   ]
  },
  {
   "cell_type": "code",
   "execution_count": 12,
   "id": "46859d49",
   "metadata": {},
   "outputs": [
    {
     "name": "stdout",
     "output_type": "stream",
     "text": [
      "*****\n",
      "****\n",
      "***\n",
      "**\n",
      "*\n"
     ]
    }
   ],
   "source": [
    "# you can have nested loops\n",
    "for i in range(5, 0, -1):\n",
    "    for j in range(0, i):\n",
    "        print('*', end='')\n",
    "    print()"
   ]
  },
  {
   "cell_type": "code",
   "execution_count": 11,
   "id": "0e41aa17",
   "metadata": {},
   "outputs": [
    {
     "name": "stdout",
     "output_type": "stream",
     "text": [
      "positive\n"
     ]
    }
   ],
   "source": [
    "# selection\n",
    "a = 10\n",
    "if (a == 0):\n",
    "    print(\"neither positive nor negative\")\n",
    "elif (a > 0):\n",
    "    print(\"positive\")\n",
    "else:\n",
    "    print(\"negative\")"
   ]
  },
  {
   "cell_type": "code",
   "execution_count": 17,
   "id": "cf32d55b",
   "metadata": {},
   "outputs": [
    {
     "name": "stdout",
     "output_type": "stream",
     "text": [
      "3 is greatest\n"
     ]
    }
   ],
   "source": [
    "# nested selection\n",
    "a = 1\n",
    "b = 2\n",
    "c = 3\n",
    "if (a > b):\n",
    "    if (a > c):\n",
    "        print(a, \"is greatest\")\n",
    "    else:\n",
    "        print(c, \"is greatest\")\n",
    "else:\n",
    "    if (b > c):\n",
    "        print(b, \"is greatest\")\n",
    "    else:\n",
    "        print(c, \"is greatest\")       "
   ]
  },
  {
   "cell_type": "code",
   "execution_count": 19,
   "id": "d89af566",
   "metadata": {},
   "outputs": [
    {
     "name": "stdout",
     "output_type": "stream",
     "text": [
      "5\n",
      "1\n"
     ]
    }
   ],
   "source": [
    "# you can define functions\n",
    "def hcf(a, b):\n",
    "    while a != b:\n",
    "        if a > b:\n",
    "            a = a - b\n",
    "        else:\n",
    "            b = b - a\n",
    "    return a\n",
    "print(hcf(15, 25))\n",
    "print(hcf(12, 13))"
   ]
  },
  {
   "cell_type": "code",
   "execution_count": null,
   "id": "44721b1a",
   "metadata": {},
   "outputs": [],
   "source": [
    "# you can also do object oriented programming\n"
   ]
  },
  {
   "cell_type": "markdown",
   "id": "ed38c1d5",
   "metadata": {},
   "source": [
    "# Data Understanding\n",
    "- Defining the question\n",
    "- Collecting the data \n",
    "- Cleaning the data\n",
    "- Analyzing the data\n",
    "- Sharing your results\n",
    "- Embracing failure\n",
    "- Summary"
   ]
  }
 ],
 "metadata": {
  "kernelspec": {
   "display_name": "Python 3 (ipykernel)",
   "language": "python",
   "name": "python3"
  },
  "language_info": {
   "codemirror_mode": {
    "name": "ipython",
    "version": 3
   },
   "file_extension": ".py",
   "mimetype": "text/x-python",
   "name": "python",
   "nbconvert_exporter": "python",
   "pygments_lexer": "ipython3",
   "version": "3.8.16"
  }
 },
 "nbformat": 4,
 "nbformat_minor": 5
}
