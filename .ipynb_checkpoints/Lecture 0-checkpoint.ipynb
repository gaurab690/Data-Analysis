{
 "cells": [
  {
   "cell_type": "markdown",
   "id": "359ae056",
   "metadata": {},
   "source": [
    "# Course Overview"
   ]
  },
  {
   "cell_type": "markdown",
   "id": "4a392ede",
   "metadata": {},
   "source": [
    "## Summary\n",
    "- understand fundamental concepts of data science and appreciate key techniques of the field\n",
    "- gain exposure to data understanding, preparation, modelling, result evaluation and data visualisation\n",
    "    - the end goal is to improve productivity and consumer satisfaction with data driven decisions\n",
    "- learn practicals tools needed for data science projects in modern business environment"
   ]
  },
  {
   "cell_type": "markdown",
   "id": "b8cb1e2d",
   "metadata": {},
   "source": [
    "## Learning Outcomes (LO)\n",
    "1. Understand fundamental concepts and techniques of data science.\n",
    "2. Appreciate the business context in which the analysis of data can be fruitful and effective for decision-making and creating value.\n",
    "3. Understand and compare the techniques and tools for analysing and visualising data\n",
    "4. Develop the practical skills in preparing, modelling and visualising data.\n",
    "5. Gain exposure to the practice of formulating and structuring problems and identifying the relevant tools to aid problem-solving"
   ]
  },
  {
   "cell_type": "markdown",
   "id": "4a435157",
   "metadata": {},
   "source": [
    "## Assessment Strategy\n",
    "- 60% on Coursework due Week 11: Individual business data analytical report (1500 words + analytical output and evaluation)\n",
    "- 40% on Unseen exam due Week 15: Two hours unseen exam"
   ]
  },
  {
   "cell_type": "markdown",
   "id": "342857c1",
   "metadata": {},
   "source": [
    "## Further Reading\n",
    "- Provost, F. & Fawcett, T., Data Science for Business: What you need to know about Data Mining and Data-analytic thinking, (2013), O’Reilly Media\n",
    "\n",
    "Other Texts:\n",
    "- EMC Education Services, Data Science and Big Data Analytics: Discovering, Analyzing, Visualizing and Presenting Data, (2015), John Wiley & Sons\n",
    "- Graham, A., Statistics – A Complete Introduction, e-book (2013), Hodder & Stoughton.\n",
    "- Jeffrey M. Stanton, 2013. Introduction to data science – e-copy is freely available at (last accessed February 2018) https://ischool.syr.edu/media/documents/2012/3/DataScienceBook1_1.pdf\n",
    "- Perry, James T., 2007. Introduction to Oracle 10g"
   ]
  },
  {
   "cell_type": "markdown",
   "id": "b4dd25b2",
   "metadata": {},
   "source": [
    "## Major Topics of Study\n",
    "1. Introduction to Data Science for Business (Data Mining Life Cycle)\n",
    "2. Introduction to Data and Python (Python Runtime)\n",
    "3. Python Data Types (Lists, Tuples, Sets, Dictionary)\n",
    "4. Data Understanding and Various Operations (Python Libraries and their usage)\n",
    "5. Data Visualization (matplotlib)\n",
    "6. Data Model (Structured and Unstructured Data)\n",
    "7. Operational Database (SQL) + Understanding Business Application\n",
    "8. Data Warehousing\n",
    "9. Data Mining"
   ]
  },
  {
   "cell_type": "markdown",
   "id": "1810bfd7",
   "metadata": {},
   "source": [
    "# Module Leader Overview \n",
    "- Prasant Adhikari\n",
    "- Academics\n",
    "    - SLC: SOS HGS Gandaki \n",
    "    - A-Levels: Budhanilkantha School\n",
    "    - B.Sc in Computer Engineering: New York University Abu Dhabi\n",
    "    - M.Sc in Computer Engineering: New York University\n",
    "- Research Interest\n",
    "    - Linux Kernel Security\n",
    "    - Open Source Software\n",
    "- Current Side Project\n",
    "    - Building a cross-platform card game with Rust and Flutter"
   ]
  }
 ],
 "metadata": {
  "kernelspec": {
   "display_name": "Python 3 (ipykernel)",
   "language": "python",
   "name": "python3"
  },
  "language_info": {
   "codemirror_mode": {
    "name": "ipython",
    "version": 3
   },
   "file_extension": ".py",
   "mimetype": "text/x-python",
   "name": "python",
   "nbconvert_exporter": "python",
   "pygments_lexer": "ipython3",
   "version": "3.8.16"
  }
 },
 "nbformat": 4,
 "nbformat_minor": 5
}
